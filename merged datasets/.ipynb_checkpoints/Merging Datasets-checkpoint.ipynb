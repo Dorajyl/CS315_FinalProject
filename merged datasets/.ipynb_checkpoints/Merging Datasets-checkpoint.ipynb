{
 "cells": [
  {
   "cell_type": "markdown",
   "id": "8be287be",
   "metadata": {},
   "source": [
    "<br>Dora Li\n",
    "<br>CS315 \n",
    "<br>April 26 th, 2024"
   ]
  },
  {
   "cell_type": "markdown",
   "id": "c1e05093",
   "metadata": {},
   "source": [
    "# Merging Datasets (json and csv data)\n",
    "**Table of Content**\n",
    "\n",
    "1. [Function Definitions](#sec1)  \n",
    "2. [Selecting Relevant Users](#sec2)  \n",
    "3. [Sample Test](#sec3)"
   ]
  },
  {
   "cell_type": "code",
   "execution_count": 13,
   "id": "78a609ab",
   "metadata": {},
   "outputs": [],
   "source": [
    "import json\n",
    "import pandas as pd\n",
    "from urllib.parse import urlparse\n",
    "import matplotlib.pyplot as plt"
   ]
  },
  {
   "cell_type": "markdown",
   "id": "da679767",
   "metadata": {},
   "source": [
    "<a id=\"sec1\"></a>\n",
    "## 1. Function Definitions"
   ]
  },
  {
   "cell_type": "code",
   "execution_count": 2,
   "id": "182803df",
   "metadata": {},
   "outputs": [],
   "source": [
    "def getID(url):\n",
    "    \"\"\"\n",
    "    Helper Function: Given an url string, returns the video id embedded in the url\n",
    "    \"\"\"\n",
    "    parsed_url = urlparse(url)\n",
    "    path_segments = parsed_url.path.split('/')\n",
    "    return int(path_segments[3])\n",
    "\n",
    "def processJson(jsond): #for Sec2Gr2 files\n",
    "    \"\"\"\n",
    "    Helper Function: Given a json datafile name, return the file in dataframe format \n",
    "    \"\"\"\n",
    "    jsondf = jsond\n",
    "    jsondf['video_id'] = jsondf['Link'].apply(getID)\n",
    "    return jsondf\n",
    "\n",
    "def processJson2(filename): #for Sec1Gr1 files\n",
    "    \"\"\"\n",
    "    Helper Function: Given a json datafile name, return the file in dataframe format \n",
    "    \"\"\"\n",
    "    with open(filename, 'r') as file:\n",
    "        jsondata = json.load(file)\n",
    "\n",
    "    jsondict = {'Date':[],'Link':[],'video_id':[]}\n",
    "    for video in jsondata['data']:\n",
    "        jsondict['Link'].append(video[1])\n",
    "        jsondict['video_id'].append(getID(video[1])) \n",
    "        jsondict['Date'].append(video[0])\n",
    "\n",
    "    jsondf = pd.DataFrame(jsondict)\n",
    "    return jsondf\n",
    "    \n",
    "    \n",
    "    "
   ]
  },
  {
   "cell_type": "markdown",
   "id": "b9c4f7bf",
   "metadata": {},
   "source": [
    "<a id=\"sec2\"></a>\n",
    "## 2. Selecting Relevant Users"
   ]
  },
  {
   "cell_type": "code",
   "execution_count": 3,
   "id": "29e45266",
   "metadata": {},
   "outputs": [],
   "source": [
    "sec1files = [\"Sec1Gr1_10824.json\",\"Sec1Gr1_12345.json\",\"Sec1Gr1_50405.json\"]\n",
    "sec1grp3file = \"Sec1Gr3_11111.json\"\n",
    "sec2files = [\"Sec2Gr2_26301.json\",\"Sec2Gr2_33534.json\",\"Sec2Gr2_38129.json\",\"Sec2Gr2_69117.json\"]"
   ]
  },
  {
   "cell_type": "code",
   "execution_count": 4,
   "id": "74d86e70",
   "metadata": {},
   "outputs": [
    {
     "name": "stdout",
     "output_type": "stream",
     "text": [
      "Sec2Gr2_26301.json\n"
     ]
    },
    {
     "ename": "FileNotFoundError",
     "evalue": "File Sec2Gr2_26301.json does not exist",
     "output_type": "error",
     "traceback": [
      "\u001b[0;31m---------------------------------------------------------------------------\u001b[0m",
      "\u001b[0;31mFileNotFoundError\u001b[0m                         Traceback (most recent call last)",
      "Cell \u001b[0;32mIn[4], line 4\u001b[0m\n\u001b[1;32m      2\u001b[0m \u001b[38;5;28;01mfor\u001b[39;00m file \u001b[38;5;129;01min\u001b[39;00m sec2files:\n\u001b[1;32m      3\u001b[0m     \u001b[38;5;28mprint\u001b[39m(file)\n\u001b[0;32m----> 4\u001b[0m     jsond \u001b[38;5;241m=\u001b[39m \u001b[43mpd\u001b[49m\u001b[38;5;241;43m.\u001b[39;49m\u001b[43mread_json\u001b[49m\u001b[43m(\u001b[49m\u001b[43mfile\u001b[49m\u001b[43m)\u001b[49m\n\u001b[1;32m      5\u001b[0m     jsonfile \u001b[38;5;241m=\u001b[39m processJson(jsond)\n\u001b[1;32m      6\u001b[0m     jsonfile[\u001b[38;5;124m'\u001b[39m\u001b[38;5;124mDate\u001b[39m\u001b[38;5;124m'\u001b[39m] \u001b[38;5;241m=\u001b[39m pd\u001b[38;5;241m.\u001b[39mto_datetime(jsonfile[\u001b[38;5;124m'\u001b[39m\u001b[38;5;124mDate\u001b[39m\u001b[38;5;124m'\u001b[39m])\n",
      "File \u001b[0;32m~/miniconda3/lib/python3.10/site-packages/pandas/io/json/_json.py:791\u001b[0m, in \u001b[0;36mread_json\u001b[0;34m(path_or_buf, orient, typ, dtype, convert_axes, convert_dates, keep_default_dates, precise_float, date_unit, encoding, encoding_errors, lines, chunksize, compression, nrows, storage_options, dtype_backend, engine)\u001b[0m\n\u001b[1;32m    788\u001b[0m \u001b[38;5;28;01mif\u001b[39;00m convert_axes \u001b[38;5;129;01mis\u001b[39;00m \u001b[38;5;28;01mNone\u001b[39;00m \u001b[38;5;129;01mand\u001b[39;00m orient \u001b[38;5;241m!=\u001b[39m \u001b[38;5;124m\"\u001b[39m\u001b[38;5;124mtable\u001b[39m\u001b[38;5;124m\"\u001b[39m:\n\u001b[1;32m    789\u001b[0m     convert_axes \u001b[38;5;241m=\u001b[39m \u001b[38;5;28;01mTrue\u001b[39;00m\n\u001b[0;32m--> 791\u001b[0m json_reader \u001b[38;5;241m=\u001b[39m \u001b[43mJsonReader\u001b[49m\u001b[43m(\u001b[49m\n\u001b[1;32m    792\u001b[0m \u001b[43m    \u001b[49m\u001b[43mpath_or_buf\u001b[49m\u001b[43m,\u001b[49m\n\u001b[1;32m    793\u001b[0m \u001b[43m    \u001b[49m\u001b[43morient\u001b[49m\u001b[38;5;241;43m=\u001b[39;49m\u001b[43morient\u001b[49m\u001b[43m,\u001b[49m\n\u001b[1;32m    794\u001b[0m \u001b[43m    \u001b[49m\u001b[43mtyp\u001b[49m\u001b[38;5;241;43m=\u001b[39;49m\u001b[43mtyp\u001b[49m\u001b[43m,\u001b[49m\n\u001b[1;32m    795\u001b[0m \u001b[43m    \u001b[49m\u001b[43mdtype\u001b[49m\u001b[38;5;241;43m=\u001b[39;49m\u001b[43mdtype\u001b[49m\u001b[43m,\u001b[49m\n\u001b[1;32m    796\u001b[0m \u001b[43m    \u001b[49m\u001b[43mconvert_axes\u001b[49m\u001b[38;5;241;43m=\u001b[39;49m\u001b[43mconvert_axes\u001b[49m\u001b[43m,\u001b[49m\n\u001b[1;32m    797\u001b[0m \u001b[43m    \u001b[49m\u001b[43mconvert_dates\u001b[49m\u001b[38;5;241;43m=\u001b[39;49m\u001b[43mconvert_dates\u001b[49m\u001b[43m,\u001b[49m\n\u001b[1;32m    798\u001b[0m \u001b[43m    \u001b[49m\u001b[43mkeep_default_dates\u001b[49m\u001b[38;5;241;43m=\u001b[39;49m\u001b[43mkeep_default_dates\u001b[49m\u001b[43m,\u001b[49m\n\u001b[1;32m    799\u001b[0m \u001b[43m    \u001b[49m\u001b[43mprecise_float\u001b[49m\u001b[38;5;241;43m=\u001b[39;49m\u001b[43mprecise_float\u001b[49m\u001b[43m,\u001b[49m\n\u001b[1;32m    800\u001b[0m \u001b[43m    \u001b[49m\u001b[43mdate_unit\u001b[49m\u001b[38;5;241;43m=\u001b[39;49m\u001b[43mdate_unit\u001b[49m\u001b[43m,\u001b[49m\n\u001b[1;32m    801\u001b[0m \u001b[43m    \u001b[49m\u001b[43mencoding\u001b[49m\u001b[38;5;241;43m=\u001b[39;49m\u001b[43mencoding\u001b[49m\u001b[43m,\u001b[49m\n\u001b[1;32m    802\u001b[0m \u001b[43m    \u001b[49m\u001b[43mlines\u001b[49m\u001b[38;5;241;43m=\u001b[39;49m\u001b[43mlines\u001b[49m\u001b[43m,\u001b[49m\n\u001b[1;32m    803\u001b[0m \u001b[43m    \u001b[49m\u001b[43mchunksize\u001b[49m\u001b[38;5;241;43m=\u001b[39;49m\u001b[43mchunksize\u001b[49m\u001b[43m,\u001b[49m\n\u001b[1;32m    804\u001b[0m \u001b[43m    \u001b[49m\u001b[43mcompression\u001b[49m\u001b[38;5;241;43m=\u001b[39;49m\u001b[43mcompression\u001b[49m\u001b[43m,\u001b[49m\n\u001b[1;32m    805\u001b[0m \u001b[43m    \u001b[49m\u001b[43mnrows\u001b[49m\u001b[38;5;241;43m=\u001b[39;49m\u001b[43mnrows\u001b[49m\u001b[43m,\u001b[49m\n\u001b[1;32m    806\u001b[0m \u001b[43m    \u001b[49m\u001b[43mstorage_options\u001b[49m\u001b[38;5;241;43m=\u001b[39;49m\u001b[43mstorage_options\u001b[49m\u001b[43m,\u001b[49m\n\u001b[1;32m    807\u001b[0m \u001b[43m    \u001b[49m\u001b[43mencoding_errors\u001b[49m\u001b[38;5;241;43m=\u001b[39;49m\u001b[43mencoding_errors\u001b[49m\u001b[43m,\u001b[49m\n\u001b[1;32m    808\u001b[0m \u001b[43m    \u001b[49m\u001b[43mdtype_backend\u001b[49m\u001b[38;5;241;43m=\u001b[39;49m\u001b[43mdtype_backend\u001b[49m\u001b[43m,\u001b[49m\n\u001b[1;32m    809\u001b[0m \u001b[43m    \u001b[49m\u001b[43mengine\u001b[49m\u001b[38;5;241;43m=\u001b[39;49m\u001b[43mengine\u001b[49m\u001b[43m,\u001b[49m\n\u001b[1;32m    810\u001b[0m \u001b[43m\u001b[49m\u001b[43m)\u001b[49m\n\u001b[1;32m    812\u001b[0m \u001b[38;5;28;01mif\u001b[39;00m chunksize:\n\u001b[1;32m    813\u001b[0m     \u001b[38;5;28;01mreturn\u001b[39;00m json_reader\n",
      "File \u001b[0;32m~/miniconda3/lib/python3.10/site-packages/pandas/io/json/_json.py:904\u001b[0m, in \u001b[0;36mJsonReader.__init__\u001b[0;34m(self, filepath_or_buffer, orient, typ, dtype, convert_axes, convert_dates, keep_default_dates, precise_float, date_unit, encoding, lines, chunksize, compression, nrows, storage_options, encoding_errors, dtype_backend, engine)\u001b[0m\n\u001b[1;32m    902\u001b[0m     \u001b[38;5;28mself\u001b[39m\u001b[38;5;241m.\u001b[39mdata \u001b[38;5;241m=\u001b[39m filepath_or_buffer\n\u001b[1;32m    903\u001b[0m \u001b[38;5;28;01melif\u001b[39;00m \u001b[38;5;28mself\u001b[39m\u001b[38;5;241m.\u001b[39mengine \u001b[38;5;241m==\u001b[39m \u001b[38;5;124m\"\u001b[39m\u001b[38;5;124mujson\u001b[39m\u001b[38;5;124m\"\u001b[39m:\n\u001b[0;32m--> 904\u001b[0m     data \u001b[38;5;241m=\u001b[39m \u001b[38;5;28;43mself\u001b[39;49m\u001b[38;5;241;43m.\u001b[39;49m\u001b[43m_get_data_from_filepath\u001b[49m\u001b[43m(\u001b[49m\u001b[43mfilepath_or_buffer\u001b[49m\u001b[43m)\u001b[49m\n\u001b[1;32m    905\u001b[0m     \u001b[38;5;28mself\u001b[39m\u001b[38;5;241m.\u001b[39mdata \u001b[38;5;241m=\u001b[39m \u001b[38;5;28mself\u001b[39m\u001b[38;5;241m.\u001b[39m_preprocess_data(data)\n",
      "File \u001b[0;32m~/miniconda3/lib/python3.10/site-packages/pandas/io/json/_json.py:960\u001b[0m, in \u001b[0;36mJsonReader._get_data_from_filepath\u001b[0;34m(self, filepath_or_buffer)\u001b[0m\n\u001b[1;32m    952\u001b[0m     filepath_or_buffer \u001b[38;5;241m=\u001b[39m \u001b[38;5;28mself\u001b[39m\u001b[38;5;241m.\u001b[39mhandles\u001b[38;5;241m.\u001b[39mhandle\n\u001b[1;32m    953\u001b[0m \u001b[38;5;28;01melif\u001b[39;00m (\n\u001b[1;32m    954\u001b[0m     \u001b[38;5;28misinstance\u001b[39m(filepath_or_buffer, \u001b[38;5;28mstr\u001b[39m)\n\u001b[1;32m    955\u001b[0m     \u001b[38;5;129;01mand\u001b[39;00m filepath_or_buffer\u001b[38;5;241m.\u001b[39mlower()\u001b[38;5;241m.\u001b[39mendswith(\n\u001b[0;32m   (...)\u001b[0m\n\u001b[1;32m    958\u001b[0m     \u001b[38;5;129;01mand\u001b[39;00m \u001b[38;5;129;01mnot\u001b[39;00m file_exists(filepath_or_buffer)\n\u001b[1;32m    959\u001b[0m ):\n\u001b[0;32m--> 960\u001b[0m     \u001b[38;5;28;01mraise\u001b[39;00m \u001b[38;5;167;01mFileNotFoundError\u001b[39;00m(\u001b[38;5;124mf\u001b[39m\u001b[38;5;124m\"\u001b[39m\u001b[38;5;124mFile \u001b[39m\u001b[38;5;132;01m{\u001b[39;00mfilepath_or_buffer\u001b[38;5;132;01m}\u001b[39;00m\u001b[38;5;124m does not exist\u001b[39m\u001b[38;5;124m\"\u001b[39m)\n\u001b[1;32m    961\u001b[0m \u001b[38;5;28;01melse\u001b[39;00m:\n\u001b[1;32m    962\u001b[0m     warnings\u001b[38;5;241m.\u001b[39mwarn(\n\u001b[1;32m    963\u001b[0m         \u001b[38;5;124m\"\u001b[39m\u001b[38;5;124mPassing literal json to \u001b[39m\u001b[38;5;124m'\u001b[39m\u001b[38;5;124mread_json\u001b[39m\u001b[38;5;124m'\u001b[39m\u001b[38;5;124m is deprecated and \u001b[39m\u001b[38;5;124m\"\u001b[39m\n\u001b[1;32m    964\u001b[0m         \u001b[38;5;124m\"\u001b[39m\u001b[38;5;124mwill be removed in a future version. To read from a \u001b[39m\u001b[38;5;124m\"\u001b[39m\n\u001b[0;32m   (...)\u001b[0m\n\u001b[1;32m    967\u001b[0m         stacklevel\u001b[38;5;241m=\u001b[39mfind_stack_level(),\n\u001b[1;32m    968\u001b[0m     )\n",
      "\u001b[0;31mFileNotFoundError\u001b[0m: File Sec2Gr2_26301.json does not exist"
     ]
    }
   ],
   "source": [
    "# look at section 2 users\n",
    "for file in sec2files:\n",
    "    print(file)\n",
    "    jsond = pd.read_json(file)\n",
    "    jsonfile = processJson(jsond)\n",
    "    jsonfile['Date'] = pd.to_datetime(jsonfile['Date'])\n",
    "    monthlycounts = jsonfile.groupby(jsonfile['Date'].dt.to_period('M')).size()\n",
    "    print(monthlycounts)\n",
    "    print()"
   ]
  },
  {
   "cell_type": "code",
   "execution_count": 5,
   "id": "0fc109b6",
   "metadata": {},
   "outputs": [
    {
     "name": "stdout",
     "output_type": "stream",
     "text": [
      "Sec1Gr1_10824.json\n"
     ]
    },
    {
     "ename": "FileNotFoundError",
     "evalue": "[Errno 2] No such file or directory: 'Sec1Gr1_10824.json'",
     "output_type": "error",
     "traceback": [
      "\u001b[0;31m---------------------------------------------------------------------------\u001b[0m",
      "\u001b[0;31mFileNotFoundError\u001b[0m                         Traceback (most recent call last)",
      "Cell \u001b[0;32mIn[5], line 4\u001b[0m\n\u001b[1;32m      2\u001b[0m \u001b[38;5;28;01mfor\u001b[39;00m file \u001b[38;5;129;01min\u001b[39;00m sec1files:\n\u001b[1;32m      3\u001b[0m     \u001b[38;5;28mprint\u001b[39m(file)\n\u001b[0;32m----> 4\u001b[0m     jsonfile \u001b[38;5;241m=\u001b[39m \u001b[43mprocessJson2\u001b[49m\u001b[43m(\u001b[49m\u001b[43mfile\u001b[49m\u001b[43m)\u001b[49m\n\u001b[1;32m      5\u001b[0m     jsonfile[\u001b[38;5;124m'\u001b[39m\u001b[38;5;124mDate\u001b[39m\u001b[38;5;124m'\u001b[39m] \u001b[38;5;241m=\u001b[39m pd\u001b[38;5;241m.\u001b[39mto_datetime(jsonfile[\u001b[38;5;124m'\u001b[39m\u001b[38;5;124mDate\u001b[39m\u001b[38;5;124m'\u001b[39m])\n\u001b[1;32m      6\u001b[0m     monthlycounts \u001b[38;5;241m=\u001b[39m jsonfile\u001b[38;5;241m.\u001b[39mgroupby(jsonfile[\u001b[38;5;124m'\u001b[39m\u001b[38;5;124mDate\u001b[39m\u001b[38;5;124m'\u001b[39m]\u001b[38;5;241m.\u001b[39mdt\u001b[38;5;241m.\u001b[39mto_period(\u001b[38;5;124m'\u001b[39m\u001b[38;5;124mM\u001b[39m\u001b[38;5;124m'\u001b[39m))\u001b[38;5;241m.\u001b[39msize()\n",
      "Cell \u001b[0;32mIn[2], line 21\u001b[0m, in \u001b[0;36mprocessJson2\u001b[0;34m(filename)\u001b[0m\n\u001b[1;32m     17\u001b[0m \u001b[38;5;28;01mdef\u001b[39;00m \u001b[38;5;21mprocessJson2\u001b[39m(filename): \u001b[38;5;66;03m#for Sec1Gr1 files\u001b[39;00m\n\u001b[1;32m     18\u001b[0m \u001b[38;5;250m    \u001b[39m\u001b[38;5;124;03m\"\"\"\u001b[39;00m\n\u001b[1;32m     19\u001b[0m \u001b[38;5;124;03m    Helper Function: Given a json datafile name, return the file in dataframe format \u001b[39;00m\n\u001b[1;32m     20\u001b[0m \u001b[38;5;124;03m    \"\"\"\u001b[39;00m\n\u001b[0;32m---> 21\u001b[0m     \u001b[38;5;28;01mwith\u001b[39;00m \u001b[38;5;28;43mopen\u001b[39;49m\u001b[43m(\u001b[49m\u001b[43mfilename\u001b[49m\u001b[43m,\u001b[49m\u001b[43m \u001b[49m\u001b[38;5;124;43m'\u001b[39;49m\u001b[38;5;124;43mr\u001b[39;49m\u001b[38;5;124;43m'\u001b[39;49m\u001b[43m)\u001b[49m \u001b[38;5;28;01mas\u001b[39;00m file:\n\u001b[1;32m     22\u001b[0m         jsondata \u001b[38;5;241m=\u001b[39m json\u001b[38;5;241m.\u001b[39mload(file)\n\u001b[1;32m     24\u001b[0m     jsondict \u001b[38;5;241m=\u001b[39m {\u001b[38;5;124m'\u001b[39m\u001b[38;5;124mDate\u001b[39m\u001b[38;5;124m'\u001b[39m:[],\u001b[38;5;124m'\u001b[39m\u001b[38;5;124mLink\u001b[39m\u001b[38;5;124m'\u001b[39m:[],\u001b[38;5;124m'\u001b[39m\u001b[38;5;124mvideo_id\u001b[39m\u001b[38;5;124m'\u001b[39m:[]}\n",
      "File \u001b[0;32m~/miniconda3/lib/python3.10/site-packages/IPython/core/interactiveshell.py:286\u001b[0m, in \u001b[0;36m_modified_open\u001b[0;34m(file, *args, **kwargs)\u001b[0m\n\u001b[1;32m    279\u001b[0m \u001b[38;5;28;01mif\u001b[39;00m file \u001b[38;5;129;01min\u001b[39;00m {\u001b[38;5;241m0\u001b[39m, \u001b[38;5;241m1\u001b[39m, \u001b[38;5;241m2\u001b[39m}:\n\u001b[1;32m    280\u001b[0m     \u001b[38;5;28;01mraise\u001b[39;00m \u001b[38;5;167;01mValueError\u001b[39;00m(\n\u001b[1;32m    281\u001b[0m         \u001b[38;5;124mf\u001b[39m\u001b[38;5;124m\"\u001b[39m\u001b[38;5;124mIPython won\u001b[39m\u001b[38;5;124m'\u001b[39m\u001b[38;5;124mt let you open fd=\u001b[39m\u001b[38;5;132;01m{\u001b[39;00mfile\u001b[38;5;132;01m}\u001b[39;00m\u001b[38;5;124m by default \u001b[39m\u001b[38;5;124m\"\u001b[39m\n\u001b[1;32m    282\u001b[0m         \u001b[38;5;124m\"\u001b[39m\u001b[38;5;124mas it is likely to crash IPython. If you know what you are doing, \u001b[39m\u001b[38;5;124m\"\u001b[39m\n\u001b[1;32m    283\u001b[0m         \u001b[38;5;124m\"\u001b[39m\u001b[38;5;124myou can use builtins\u001b[39m\u001b[38;5;124m'\u001b[39m\u001b[38;5;124m open.\u001b[39m\u001b[38;5;124m\"\u001b[39m\n\u001b[1;32m    284\u001b[0m     )\n\u001b[0;32m--> 286\u001b[0m \u001b[38;5;28;01mreturn\u001b[39;00m \u001b[43mio_open\u001b[49m\u001b[43m(\u001b[49m\u001b[43mfile\u001b[49m\u001b[43m,\u001b[49m\u001b[43m \u001b[49m\u001b[38;5;241;43m*\u001b[39;49m\u001b[43margs\u001b[49m\u001b[43m,\u001b[49m\u001b[43m \u001b[49m\u001b[38;5;241;43m*\u001b[39;49m\u001b[38;5;241;43m*\u001b[39;49m\u001b[43mkwargs\u001b[49m\u001b[43m)\u001b[49m\n",
      "\u001b[0;31mFileNotFoundError\u001b[0m: [Errno 2] No such file or directory: 'Sec1Gr1_10824.json'"
     ]
    }
   ],
   "source": [
    "# look at section1 users\n",
    "for file in sec1files:\n",
    "    print(file)\n",
    "    jsonfile = processJson2(file)\n",
    "    jsonfile['Date'] = pd.to_datetime(jsonfile['Date'])\n",
    "    monthlycounts = jsonfile.groupby(jsonfile['Date'].dt.to_period('M')).size()\n",
    "    print(monthlycounts)\n",
    "    print()"
   ]
  },
  {
   "cell_type": "markdown",
   "id": "a87f5119",
   "metadata": {},
   "source": [
    "<a id=\"sec3\"></a>\n",
    "## 3. Sample Test"
   ]
  },
  {
   "cell_type": "code",
   "execution_count": 63,
   "id": "5caf5f7b",
   "metadata": {},
   "outputs": [
    {
     "data": {
      "text/html": [
       "<div>\n",
       "<style scoped>\n",
       "    .dataframe tbody tr th:only-of-type {\n",
       "        vertical-align: middle;\n",
       "    }\n",
       "\n",
       "    .dataframe tbody tr th {\n",
       "        vertical-align: top;\n",
       "    }\n",
       "\n",
       "    .dataframe thead th {\n",
       "        text-align: right;\n",
       "    }\n",
       "</style>\n",
       "<table border=\"1\" class=\"dataframe\">\n",
       "  <thead>\n",
       "    <tr style=\"text-align: right;\">\n",
       "      <th></th>\n",
       "      <th>Date</th>\n",
       "      <th>Link</th>\n",
       "      <th>video_id</th>\n",
       "    </tr>\n",
       "  </thead>\n",
       "  <tbody>\n",
       "    <tr>\n",
       "      <th>0</th>\n",
       "      <td>2024-03-06 19:44:41</td>\n",
       "      <td>https://www.tiktokv.com/share/video/7315561816...</td>\n",
       "      <td>7315561816673750318</td>\n",
       "    </tr>\n",
       "    <tr>\n",
       "      <th>1</th>\n",
       "      <td>2024-03-06 18:00:25</td>\n",
       "      <td>https://www.tiktokv.com/share/video/7315561816...</td>\n",
       "      <td>7315561816673750318</td>\n",
       "    </tr>\n",
       "    <tr>\n",
       "      <th>2</th>\n",
       "      <td>2024-03-06 17:58:36</td>\n",
       "      <td>https://www.tiktokv.com/share/video/7315561816...</td>\n",
       "      <td>7315561816673750318</td>\n",
       "    </tr>\n",
       "    <tr>\n",
       "      <th>3</th>\n",
       "      <td>2024-03-06 17:56:52</td>\n",
       "      <td>https://www.tiktokv.com/share/video/7315561816...</td>\n",
       "      <td>7315561816673750318</td>\n",
       "    </tr>\n",
       "    <tr>\n",
       "      <th>4</th>\n",
       "      <td>2024-03-06 17:46:03</td>\n",
       "      <td>https://www.tiktokv.com/share/video/7315561816...</td>\n",
       "      <td>7315561816673750318</td>\n",
       "    </tr>\n",
       "  </tbody>\n",
       "</table>\n",
       "</div>"
      ],
      "text/plain": [
       "                 Date                                               Link  \\\n",
       "0 2024-03-06 19:44:41  https://www.tiktokv.com/share/video/7315561816...   \n",
       "1 2024-03-06 18:00:25  https://www.tiktokv.com/share/video/7315561816...   \n",
       "2 2024-03-06 17:58:36  https://www.tiktokv.com/share/video/7315561816...   \n",
       "3 2024-03-06 17:56:52  https://www.tiktokv.com/share/video/7315561816...   \n",
       "4 2024-03-06 17:46:03  https://www.tiktokv.com/share/video/7315561816...   \n",
       "\n",
       "              video_id  \n",
       "0  7315561816673750318  \n",
       "1  7315561816673750318  \n",
       "2  7315561816673750318  \n",
       "3  7315561816673750318  \n",
       "4  7315561816673750318  "
      ]
     },
     "execution_count": 63,
     "metadata": {},
     "output_type": "execute_result"
    }
   ],
   "source": [
    "#jsondf = processJson2(\"Sec1Gr1_50405.json\")#sec1\n",
    "\n",
    "jsond = pd.read_json(\"Sec2Gr2_26301.json\")#sec2\n",
    "jsondf = processJson(jsond)\n",
    "\n",
    "jsondf.head()"
   ]
  },
  {
   "cell_type": "code",
   "execution_count": 66,
   "id": "6bcce6bd",
   "metadata": {},
   "outputs": [
    {
     "data": {
      "text/html": [
       "<div>\n",
       "<style scoped>\n",
       "    .dataframe tbody tr th:only-of-type {\n",
       "        vertical-align: middle;\n",
       "    }\n",
       "\n",
       "    .dataframe tbody tr th {\n",
       "        vertical-align: top;\n",
       "    }\n",
       "\n",
       "    .dataframe thead th {\n",
       "        text-align: right;\n",
       "    }\n",
       "</style>\n",
       "<table border=\"1\" class=\"dataframe\">\n",
       "  <thead>\n",
       "    <tr style=\"text-align: right;\">\n",
       "      <th></th>\n",
       "      <th>video_id</th>\n",
       "      <th>video_timestamp</th>\n",
       "      <th>video_duration</th>\n",
       "      <th>video_locationcreated</th>\n",
       "      <th>suggested_words</th>\n",
       "      <th>video_diggcount</th>\n",
       "      <th>video_sharecount</th>\n",
       "      <th>video_commentcount</th>\n",
       "      <th>video_playcount</th>\n",
       "      <th>video_description</th>\n",
       "      <th>video_is_ad</th>\n",
       "      <th>video_stickers</th>\n",
       "      <th>author_username</th>\n",
       "      <th>author_name</th>\n",
       "      <th>author_followercount</th>\n",
       "      <th>author_followingcount</th>\n",
       "      <th>author_heartcount</th>\n",
       "      <th>author_videocount</th>\n",
       "      <th>author_diggcount</th>\n",
       "      <th>author_verified</th>\n",
       "    </tr>\n",
       "  </thead>\n",
       "  <tbody>\n",
       "    <tr>\n",
       "      <th>0</th>\n",
       "      <td>7315561816673750318</td>\n",
       "      <td>2023-12-22T18:16:20</td>\n",
       "      <td>18.0</td>\n",
       "      <td>US</td>\n",
       "      <td>flipnote, flipnote animation, asdf movie, flip...</td>\n",
       "      <td>3500000.0</td>\n",
       "      <td>39500.0</td>\n",
       "      <td>10800.0</td>\n",
       "      <td>18700000.0</td>\n",
       "      <td>Bonus flipnote for you</td>\n",
       "      <td>False</td>\n",
       "      <td>NaN</td>\n",
       "      <td>zanelittlemusic</td>\n",
       "      <td>Zane Little</td>\n",
       "      <td>NaN</td>\n",
       "      <td>NaN</td>\n",
       "      <td>NaN</td>\n",
       "      <td>NaN</td>\n",
       "      <td>NaN</td>\n",
       "      <td>False</td>\n",
       "    </tr>\n",
       "    <tr>\n",
       "      <th>1</th>\n",
       "      <td>7315561816673750318</td>\n",
       "      <td>2023-12-22T18:16:20</td>\n",
       "      <td>18.0</td>\n",
       "      <td>US</td>\n",
       "      <td>flipnote, flipnote animation, asdf movie, flip...</td>\n",
       "      <td>3500000.0</td>\n",
       "      <td>39500.0</td>\n",
       "      <td>10800.0</td>\n",
       "      <td>18700000.0</td>\n",
       "      <td>Bonus flipnote for you</td>\n",
       "      <td>False</td>\n",
       "      <td>NaN</td>\n",
       "      <td>zanelittlemusic</td>\n",
       "      <td>Zane Little</td>\n",
       "      <td>NaN</td>\n",
       "      <td>NaN</td>\n",
       "      <td>NaN</td>\n",
       "      <td>NaN</td>\n",
       "      <td>NaN</td>\n",
       "      <td>False</td>\n",
       "    </tr>\n",
       "    <tr>\n",
       "      <th>2</th>\n",
       "      <td>7315561816673750318</td>\n",
       "      <td>2023-12-22T18:16:20</td>\n",
       "      <td>18.0</td>\n",
       "      <td>US</td>\n",
       "      <td>flipnote, flipnote animation, asdf movie, flip...</td>\n",
       "      <td>3500000.0</td>\n",
       "      <td>39500.0</td>\n",
       "      <td>10800.0</td>\n",
       "      <td>18700000.0</td>\n",
       "      <td>Bonus flipnote for you</td>\n",
       "      <td>False</td>\n",
       "      <td>NaN</td>\n",
       "      <td>zanelittlemusic</td>\n",
       "      <td>Zane Little</td>\n",
       "      <td>NaN</td>\n",
       "      <td>NaN</td>\n",
       "      <td>NaN</td>\n",
       "      <td>NaN</td>\n",
       "      <td>NaN</td>\n",
       "      <td>False</td>\n",
       "    </tr>\n",
       "    <tr>\n",
       "      <th>3</th>\n",
       "      <td>7315561816673750318</td>\n",
       "      <td>2023-12-22T18:16:20</td>\n",
       "      <td>18.0</td>\n",
       "      <td>US</td>\n",
       "      <td>flipnote, flipnote animation, asdf movie, flip...</td>\n",
       "      <td>3500000.0</td>\n",
       "      <td>39500.0</td>\n",
       "      <td>10800.0</td>\n",
       "      <td>18700000.0</td>\n",
       "      <td>Bonus flipnote for you</td>\n",
       "      <td>False</td>\n",
       "      <td>NaN</td>\n",
       "      <td>zanelittlemusic</td>\n",
       "      <td>Zane Little</td>\n",
       "      <td>NaN</td>\n",
       "      <td>NaN</td>\n",
       "      <td>NaN</td>\n",
       "      <td>NaN</td>\n",
       "      <td>NaN</td>\n",
       "      <td>False</td>\n",
       "    </tr>\n",
       "    <tr>\n",
       "      <th>4</th>\n",
       "      <td>7315561816673750318</td>\n",
       "      <td>2023-12-22T18:16:20</td>\n",
       "      <td>18.0</td>\n",
       "      <td>US</td>\n",
       "      <td>flipnote, flipnote animation, asdf movie, flip...</td>\n",
       "      <td>3500000.0</td>\n",
       "      <td>39500.0</td>\n",
       "      <td>10800.0</td>\n",
       "      <td>18700000.0</td>\n",
       "      <td>Bonus flipnote for you</td>\n",
       "      <td>False</td>\n",
       "      <td>NaN</td>\n",
       "      <td>zanelittlemusic</td>\n",
       "      <td>Zane Little</td>\n",
       "      <td>NaN</td>\n",
       "      <td>NaN</td>\n",
       "      <td>NaN</td>\n",
       "      <td>NaN</td>\n",
       "      <td>NaN</td>\n",
       "      <td>False</td>\n",
       "    </tr>\n",
       "  </tbody>\n",
       "</table>\n",
       "</div>"
      ],
      "text/plain": [
       "              video_id      video_timestamp  video_duration  \\\n",
       "0  7315561816673750318  2023-12-22T18:16:20            18.0   \n",
       "1  7315561816673750318  2023-12-22T18:16:20            18.0   \n",
       "2  7315561816673750318  2023-12-22T18:16:20            18.0   \n",
       "3  7315561816673750318  2023-12-22T18:16:20            18.0   \n",
       "4  7315561816673750318  2023-12-22T18:16:20            18.0   \n",
       "\n",
       "  video_locationcreated                                    suggested_words  \\\n",
       "0                    US  flipnote, flipnote animation, asdf movie, flip...   \n",
       "1                    US  flipnote, flipnote animation, asdf movie, flip...   \n",
       "2                    US  flipnote, flipnote animation, asdf movie, flip...   \n",
       "3                    US  flipnote, flipnote animation, asdf movie, flip...   \n",
       "4                    US  flipnote, flipnote animation, asdf movie, flip...   \n",
       "\n",
       "   video_diggcount  video_sharecount  video_commentcount  video_playcount  \\\n",
       "0        3500000.0           39500.0             10800.0       18700000.0   \n",
       "1        3500000.0           39500.0             10800.0       18700000.0   \n",
       "2        3500000.0           39500.0             10800.0       18700000.0   \n",
       "3        3500000.0           39500.0             10800.0       18700000.0   \n",
       "4        3500000.0           39500.0             10800.0       18700000.0   \n",
       "\n",
       "        video_description  video_is_ad  video_stickers  author_username  \\\n",
       "0  Bonus flipnote for you        False             NaN  zanelittlemusic   \n",
       "1  Bonus flipnote for you        False             NaN  zanelittlemusic   \n",
       "2  Bonus flipnote for you        False             NaN  zanelittlemusic   \n",
       "3  Bonus flipnote for you        False             NaN  zanelittlemusic   \n",
       "4  Bonus flipnote for you        False             NaN  zanelittlemusic   \n",
       "\n",
       "   author_name  author_followercount  author_followingcount  \\\n",
       "0  Zane Little                   NaN                    NaN   \n",
       "1  Zane Little                   NaN                    NaN   \n",
       "2  Zane Little                   NaN                    NaN   \n",
       "3  Zane Little                   NaN                    NaN   \n",
       "4  Zane Little                   NaN                    NaN   \n",
       "\n",
       "   author_heartcount  author_videocount  author_diggcount  author_verified  \n",
       "0                NaN                NaN               NaN            False  \n",
       "1                NaN                NaN               NaN            False  \n",
       "2                NaN                NaN               NaN            False  \n",
       "3                NaN                NaN               NaN            False  \n",
       "4                NaN                NaN               NaN            False  "
      ]
     },
     "execution_count": 66,
     "metadata": {},
     "output_type": "execute_result"
    }
   ],
   "source": [
    "csvdf = pd.read_csv(\"Sec2Gr2_26301.csv\")\n",
    "csvdf.head()"
   ]
  },
  {
   "cell_type": "code",
   "execution_count": 67,
   "id": "6201d379",
   "metadata": {},
   "outputs": [
    {
     "name": "stdout",
     "output_type": "stream",
     "text": [
      "Date\n",
      "2023-09       1\n",
      "2023-10      14\n",
      "2023-11      15\n",
      "2023-12      51\n",
      "2024-01     128\n",
      "2024-02    4757\n",
      "2024-03    5764\n",
      "Freq: M, dtype: int64\n",
      "\n"
     ]
    }
   ],
   "source": [
    "result = jsondf.merge(csvdf, on=['video_id'])\n",
    "result['Date'] = pd.to_datetime(result['Date'])\n",
    "monthlycounts = result.groupby(result['Date'].dt.to_period('M')).size()\n",
    "print(monthlycounts)\n",
    "print()"
   ]
  },
  {
   "cell_type": "code",
   "execution_count": 47,
   "id": "317977e5",
   "metadata": {},
   "outputs": [
    {
     "name": "stdout",
     "output_type": "stream",
     "text": [
      "Date\n",
      "2023-09    5075\n",
      "2023-10    5652\n",
      "2023-11    7317\n",
      "2023-12    8746\n",
      "2024-01    9758\n",
      "2024-02    3706\n",
      "Freq: M, dtype: int64\n"
     ]
    }
   ],
   "source": [
    "## look at the videos in the json\n",
    "jsondf['Date'] = pd.to_datetime(jsondf['Date'])\n",
    "monthlycounts = jsondf.groupby(jsondf['Date'].dt.to_period('M')).size()\n",
    "print(monthlycounts)"
   ]
  },
  {
   "cell_type": "code",
   "execution_count": 68,
   "id": "11230d8d",
   "metadata": {},
   "outputs": [],
   "source": [
    "# save the result to csv\n",
    "result.to_csv(\"merged_26301.csv\")"
   ]
  }
 ],
 "metadata": {
  "kernelspec": {
   "display_name": "Python 3 (ipykernel)",
   "language": "python",
   "name": "python3"
  },
  "language_info": {
   "codemirror_mode": {
    "name": "ipython",
    "version": 3
   },
   "file_extension": ".py",
   "mimetype": "text/x-python",
   "name": "python",
   "nbconvert_exporter": "python",
   "pygments_lexer": "ipython3",
   "version": "3.10.8"
  }
 },
 "nbformat": 4,
 "nbformat_minor": 5
}

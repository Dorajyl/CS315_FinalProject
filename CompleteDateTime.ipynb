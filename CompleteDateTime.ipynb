{
 "cells": [
  {
   "cell_type": "code",
   "execution_count": 74,
   "metadata": {},
   "outputs": [],
   "source": [
    "import pandas as pd\n",
    "import numpy as np\n",
    "import csv, json\n",
    "import matplotlib.pyplot as plt\n",
    "import re\n",
    "from urllib.parse import urlparse\n",
    "from pandas import Series"
   ]
  },
  {
   "cell_type": "code",
   "execution_count": 26,
   "metadata": {},
   "outputs": [
    {
     "data": {
      "text/plain": [
       "7315561816673750318"
      ]
     },
     "execution_count": 26,
     "metadata": {},
     "output_type": "execute_result"
    }
   ],
   "source": [
    "def getID(url):\n",
    "    parsed_url = urlparse(url)\n",
    "    path_segments = parsed_url.path.split('/')\n",
    "    return int(path_segments[3])\n",
    "getID(\"https://www.tiktokv.com/share/video/7315561816673750318/\")"
   ]
  },
  {
   "cell_type": "code",
   "execution_count": 36,
   "metadata": {},
   "outputs": [],
   "source": [
    "def processCsv(csvd):\n",
    "    csvdf = csvd\n",
    "    position = csvdf.columns.get_loc('video_timestamp') + 1\n",
    "    csvdf.insert(position, 'video_time_watched', np.nan)\n",
    "    return csvdf"
   ]
  },
  {
   "cell_type": "code",
   "execution_count": 58,
   "metadata": {},
   "outputs": [],
   "source": [
    "def processJson(jsond): #for Sec2Gr2 files\n",
    "    jsondf = jsond\n",
    "    jsondf['video_id'] = jsondf['Link'].apply(getID)\n",
    "    return jsondf\n",
    "\n",
    "def processJson2(jsonfilename): #for Sec1Gr1 files\n",
    "    filename = f'{jsonfilename}'\n",
    "    with open(filename, 'r') as file:\n",
    "        jsondata = json.load(file)\n",
    "\n",
    "    jsondict = {'Date':[],'Link':[],'video_id':[]}\n",
    "    for video in jsondata['data']:\n",
    "        jsondict['Link'].append(video[1])\n",
    "        jsondict['video_id'].append(getID(video[1])) \n",
    "        jsondict['Date'].append(video[0])\n",
    "\n",
    "    jsondf = pd.DataFrame(jsondict)\n",
    "    return jsondf\n",
    "    "
   ]
  },
  {
   "cell_type": "code",
   "execution_count": 7,
   "metadata": {},
   "outputs": [],
   "source": [
    "#for ech pair create new df with date\n",
    "def merged_date(csvd, jsond):\n",
    "    csvdf = csvd\n",
    "    jsondf = jsond\n",
    "    csvrow = 0\n",
    "    jsonrow = 0\n",
    "    for id in jsondf['video_id']: #for each video watched in json\n",
    "        if id == csvdf['video_id'][csvrow]: #if the id for the json equals the next csv row\n",
    "            csvdf.loc[csvrow, 'video_time_watched'] = jsondf.loc[jsonrow, 'Date']\n",
    "            if csvrow < len(csvdf)-1:\n",
    "                csvrow = csvrow+1   #go on to the next csv row\n",
    "        jsonrow = jsonrow + 1  #go to the next json no matter if match or not\n",
    "    return csvdf\n",
    "\n"
   ]
  },
  {
   "cell_type": "code",
   "execution_count": 64,
   "metadata": {},
   "outputs": [],
   "source": [
    "#processjson and csv and insert\n",
    "def mergefile(csv,json): #for Sec2gr2 files\n",
    "    csvfile = pd.read_csv(f'{csv}')\n",
    "    jsonfile = pd.read_json(f'{json}')\n",
    "    return merged_date(processCsv(csvfile), processJson(jsonfile))\n",
    "\n",
    "def mergefile2(csv,json): #for Sec1Gr1 files\n",
    "    csvfile = pd.read_csv(f'{csv}')\n",
    "    jsonfile = processJson2(f'{json}')\n",
    "    return merged_date(processCsv(csvfile),jsonfile)\n",
    "    \n",
    "#sec1gr2_csv = pd.read_csv('pyktok_data/Sec1Gr2_26301.csv') #come back label wrong\n",
    "#sec1gr2_json = pd.read_json('user_jsons/Sec2Gr2_26301.json')"
   ]
  },
  {
   "cell_type": "code",
   "execution_count": 68,
   "metadata": {},
   "outputs": [
    {
     "name": "stderr",
     "output_type": "stream",
     "text": [
      "/var/folders/ls/b1_wv00s5r5fjstz103_p3rh0000gn/T/ipykernel_31834/966991795.py:9: FutureWarning: Setting an item of incompatible dtype is deprecated and will raise an error in a future version of pandas. Value '2024-03-06 19:44:41' has dtype incompatible with float64, please explicitly cast to a compatible dtype first.\n",
      "  csvdf.loc[csvrow, 'video_time_watched'] = jsondf.loc[jsonrow, 'Date']\n",
      "/var/folders/ls/b1_wv00s5r5fjstz103_p3rh0000gn/T/ipykernel_31834/966991795.py:9: FutureWarning: Setting an item of incompatible dtype is deprecated and will raise an error in a future version of pandas. Value '2024-03-08 03:42:17' has dtype incompatible with float64, please explicitly cast to a compatible dtype first.\n",
      "  csvdf.loc[csvrow, 'video_time_watched'] = jsondf.loc[jsonrow, 'Date']\n",
      "/var/folders/ls/b1_wv00s5r5fjstz103_p3rh0000gn/T/ipykernel_31834/2354271149.py:3: DtypeWarning: Columns (8,16,17,18) have mixed types. Specify dtype option on import or set low_memory=False.\n",
      "  csvfile = pd.read_csv(f'{csv}')\n",
      "/var/folders/ls/b1_wv00s5r5fjstz103_p3rh0000gn/T/ipykernel_31834/966991795.py:9: FutureWarning: Setting an item of incompatible dtype is deprecated and will raise an error in a future version of pandas. Value '2024-02-09 23:35:22' has dtype incompatible with float64, please explicitly cast to a compatible dtype first.\n",
      "  csvdf.loc[csvrow, 'video_time_watched'] = jsondf.loc[jsonrow, 'Date']\n",
      "/var/folders/ls/b1_wv00s5r5fjstz103_p3rh0000gn/T/ipykernel_31834/966991795.py:9: FutureWarning: Setting an item of incompatible dtype is deprecated and will raise an error in a future version of pandas. Value '2024-02-26 02:58:45' has dtype incompatible with float64, please explicitly cast to a compatible dtype first.\n",
      "  csvdf.loc[csvrow, 'video_time_watched'] = jsondf.loc[jsonrow, 'Date']\n",
      "/var/folders/ls/b1_wv00s5r5fjstz103_p3rh0000gn/T/ipykernel_31834/966991795.py:9: FutureWarning: Setting an item of incompatible dtype is deprecated and will raise an error in a future version of pandas. Value '2023-11-18 01:26:28' has dtype incompatible with float64, please explicitly cast to a compatible dtype first.\n",
      "  csvdf.loc[csvrow, 'video_time_watched'] = jsondf.loc[jsonrow, 'Date']\n"
     ]
    },
    {
     "data": {
      "text/plain": [
       "(128987, 23)"
      ]
     },
     "execution_count": 68,
     "metadata": {},
     "output_type": "execute_result"
    }
   ],
   "source": [
    "df26301 = mergefile('pyktok_data/Sec1Gr2_26301.csv','user_jsons/Sec2Gr2_26301.json')\n",
    "df33534 = mergefile('pyktok_data/Sec1Gr2_33534.csv','user_jsons/Sec2Gr2_33534.json')\n",
    "df38129 = mergefile('pyktok_data/Sec1Gr2_38129.csv', 'user_jsons/Sec2Gr2_38129.json')\n",
    "df11111 = mergefile('pyktok_data/Sec1Gr3_11111.csv','user_jsons/Sec1Gr3_11111.json')\n",
    "df10824 = mergefile2('pyktok_data/Sec1Gr1_10824.csv','user_jsons/Sec1Gr1_10824.json')\n",
    "df12345 = mergefile2('pyktok_data/Sec1Gr1_12345.csv','user_jsons/Sec1Gr1_12345.json')\n",
    "df50405 = mergefile2('pyktok_data/Sec1Gr1_50405.csv','user_jsons/Sec1Gr1_50405.json')\n",
    "\n",
    "dfs = [df26301,df33534,df38129,df10824,df12345,df50405,df11111]\n",
    "\n",
    "all_dfs = pd.concat(dfs)\n",
    "all_dfs.shape\n"
   ]
  },
  {
   "cell_type": "code",
   "execution_count": null,
   "metadata": {},
   "outputs": [],
   "source": [
    "ads10824 = df10824[df10824['video_is_ad']==True]\n",
    "pattern1 = re.compile(r'\\d{4}[-]\\d{2}[-]\\d{2}T\\d{2}:\\d{2}:\\d{2}')\n",
    "\n",
    "for row in ads10824:\n",
    "    row['']\n"
   ]
  },
  {
   "cell_type": "code",
   "execution_count": 105,
   "metadata": {},
   "outputs": [
    {
     "name": "stdout",
     "output_type": "stream",
     "text": [
      "5984\n",
      "0\n",
      "74466\n",
      "37296\n",
      "22659\n",
      "42\n",
      "26355\n"
     ]
    },
    {
     "data": {
      "text/html": [
       "<div>\n",
       "<style scoped>\n",
       "    .dataframe tbody tr th:only-of-type {\n",
       "        vertical-align: middle;\n",
       "    }\n",
       "\n",
       "    .dataframe tbody tr th {\n",
       "        vertical-align: top;\n",
       "    }\n",
       "\n",
       "    .dataframe thead th {\n",
       "        text-align: right;\n",
       "    }\n",
       "</style>\n",
       "<table border=\"1\" class=\"dataframe\">\n",
       "  <thead>\n",
       "    <tr style=\"text-align: right;\">\n",
       "      <th></th>\n",
       "      <th>Unnamed: 0</th>\n",
       "      <th>video_id</th>\n",
       "      <th>video_timestamp</th>\n",
       "      <th>video_time_watched</th>\n",
       "      <th>video_duration</th>\n",
       "      <th>video_locationcreated</th>\n",
       "      <th>suggested_words</th>\n",
       "      <th>video_diggcount</th>\n",
       "      <th>video_sharecount</th>\n",
       "      <th>video_commentcount</th>\n",
       "      <th>...</th>\n",
       "      <th>video_is_ad</th>\n",
       "      <th>video_stickers</th>\n",
       "      <th>author_username</th>\n",
       "      <th>author_name</th>\n",
       "      <th>author_followercount</th>\n",
       "      <th>author_followingcount</th>\n",
       "      <th>author_heartcount</th>\n",
       "      <th>author_videocount</th>\n",
       "      <th>author_diggcount</th>\n",
       "      <th>author_verified</th>\n",
       "    </tr>\n",
       "  </thead>\n",
       "  <tbody>\n",
       "    <tr>\n",
       "      <th>1154</th>\n",
       "      <td>694</td>\n",
       "      <td>7332202104519445792</td>\n",
       "      <td>2024-02-05T14:29:02</td>\n",
       "      <td>NaN</td>\n",
       "      <td>35.0</td>\n",
       "      <td>GB</td>\n",
       "      <td>NaN</td>\n",
       "      <td>794.0</td>\n",
       "      <td>7.0</td>\n",
       "      <td>23.0</td>\n",
       "      <td>...</td>\n",
       "      <td>True</td>\n",
       "      <td>NaN</td>\n",
       "      <td>abs.tract_</td>\n",
       "      <td>abs.tract_</td>\n",
       "      <td>NaN</td>\n",
       "      <td>NaN</td>\n",
       "      <td>NaN</td>\n",
       "      <td>NaN</td>\n",
       "      <td>NaN</td>\n",
       "      <td>False</td>\n",
       "    </tr>\n",
       "    <tr>\n",
       "      <th>2039</th>\n",
       "      <td>1579</td>\n",
       "      <td>7283158241054330155</td>\n",
       "      <td>2023-09-26T11:33:49</td>\n",
       "      <td>NaN</td>\n",
       "      <td>5.0</td>\n",
       "      <td>US</td>\n",
       "      <td>Shadow Work Journal, the shadow work journal, ...</td>\n",
       "      <td>877100.0</td>\n",
       "      <td>4725.0</td>\n",
       "      <td>2163.0</td>\n",
       "      <td>...</td>\n",
       "      <td>True</td>\n",
       "      <td>NaN</td>\n",
       "      <td>kartierkloe</td>\n",
       "      <td>𝗠𝗜𝗦𝗦 𝗛𝗢𝗟𝗟𝗬𝗪𝗢𝗢𝗗</td>\n",
       "      <td>NaN</td>\n",
       "      <td>NaN</td>\n",
       "      <td>NaN</td>\n",
       "      <td>NaN</td>\n",
       "      <td>NaN</td>\n",
       "      <td>False</td>\n",
       "    </tr>\n",
       "    <tr>\n",
       "      <th>2337</th>\n",
       "      <td>1877</td>\n",
       "      <td>7338895866134138143</td>\n",
       "      <td>2024-02-23T15:25:14</td>\n",
       "      <td>NaN</td>\n",
       "      <td>28.0</td>\n",
       "      <td>US</td>\n",
       "      <td>birthday dance josh levi, howard university, H...</td>\n",
       "      <td>40000.0</td>\n",
       "      <td>170.0</td>\n",
       "      <td>156.0</td>\n",
       "      <td>...</td>\n",
       "      <td>True</td>\n",
       "      <td>NaN</td>\n",
       "      <td>joshleviworld</td>\n",
       "      <td>JOSH LEVI</td>\n",
       "      <td>NaN</td>\n",
       "      <td>NaN</td>\n",
       "      <td>NaN</td>\n",
       "      <td>NaN</td>\n",
       "      <td>NaN</td>\n",
       "      <td>True</td>\n",
       "    </tr>\n",
       "    <tr>\n",
       "      <th>2910</th>\n",
       "      <td>2450</td>\n",
       "      <td>7270661407039819010</td>\n",
       "      <td>2023-08-23T19:19:43</td>\n",
       "      <td>NaN</td>\n",
       "      <td>10.0</td>\n",
       "      <td>AU</td>\n",
       "      <td>NaN</td>\n",
       "      <td>13000.0</td>\n",
       "      <td>336.0</td>\n",
       "      <td>63.0</td>\n",
       "      <td>...</td>\n",
       "      <td>True</td>\n",
       "      <td>NaN</td>\n",
       "      <td>thatssofetchau</td>\n",
       "      <td>THATSSOFETCH</td>\n",
       "      <td>NaN</td>\n",
       "      <td>NaN</td>\n",
       "      <td>NaN</td>\n",
       "      <td>NaN</td>\n",
       "      <td>NaN</td>\n",
       "      <td>False</td>\n",
       "    </tr>\n",
       "    <tr>\n",
       "      <th>2914</th>\n",
       "      <td>2454</td>\n",
       "      <td>7338473378069744897</td>\n",
       "      <td>2024-02-22T12:04:45</td>\n",
       "      <td>NaN</td>\n",
       "      <td>11.0</td>\n",
       "      <td>FAKE-AD</td>\n",
       "      <td>asos, Must Haves, ASOS Clothes, brands, Clothe...</td>\n",
       "      <td>257.0</td>\n",
       "      <td>4.0</td>\n",
       "      <td>4.0</td>\n",
       "      <td>...</td>\n",
       "      <td>True</td>\n",
       "      <td>NaN</td>\n",
       "      <td>asos</td>\n",
       "      <td>asos</td>\n",
       "      <td>NaN</td>\n",
       "      <td>NaN</td>\n",
       "      <td>NaN</td>\n",
       "      <td>NaN</td>\n",
       "      <td>NaN</td>\n",
       "      <td>False</td>\n",
       "    </tr>\n",
       "  </tbody>\n",
       "</table>\n",
       "<p>5 rows × 22 columns</p>\n",
       "</div>"
      ],
      "text/plain": [
       "      Unnamed: 0             video_id      video_timestamp video_time_watched  \\\n",
       "1154         694  7332202104519445792  2024-02-05T14:29:02                NaN   \n",
       "2039        1579  7283158241054330155  2023-09-26T11:33:49                NaN   \n",
       "2337        1877  7338895866134138143  2024-02-23T15:25:14                NaN   \n",
       "2910        2450  7270661407039819010  2023-08-23T19:19:43                NaN   \n",
       "2914        2454  7338473378069744897  2024-02-22T12:04:45                NaN   \n",
       "\n",
       "      video_duration video_locationcreated  \\\n",
       "1154            35.0                    GB   \n",
       "2039             5.0                    US   \n",
       "2337            28.0                    US   \n",
       "2910            10.0                    AU   \n",
       "2914            11.0               FAKE-AD   \n",
       "\n",
       "                                        suggested_words  video_diggcount  \\\n",
       "1154                                                NaN            794.0   \n",
       "2039  Shadow Work Journal, the shadow work journal, ...         877100.0   \n",
       "2337  birthday dance josh levi, howard university, H...          40000.0   \n",
       "2910                                                NaN          13000.0   \n",
       "2914  asos, Must Haves, ASOS Clothes, brands, Clothe...            257.0   \n",
       "\n",
       "      video_sharecount  video_commentcount  ...  video_is_ad video_stickers  \\\n",
       "1154               7.0                23.0  ...         True            NaN   \n",
       "2039            4725.0              2163.0  ...         True            NaN   \n",
       "2337             170.0               156.0  ...         True            NaN   \n",
       "2910             336.0                63.0  ...         True            NaN   \n",
       "2914               4.0                 4.0  ...         True            NaN   \n",
       "\n",
       "      author_username     author_name author_followercount  \\\n",
       "1154       abs.tract_      abs.tract_                  NaN   \n",
       "2039      kartierkloe  𝗠𝗜𝗦𝗦 𝗛𝗢𝗟𝗟𝗬𝗪𝗢𝗢𝗗                  NaN   \n",
       "2337    joshleviworld       JOSH LEVI                  NaN   \n",
       "2910   thatssofetchau    THATSSOFETCH                  NaN   \n",
       "2914             asos            asos                  NaN   \n",
       "\n",
       "     author_followingcount  author_heartcount  author_videocount  \\\n",
       "1154                   NaN                NaN                NaN   \n",
       "2039                   NaN                NaN                NaN   \n",
       "2337                   NaN                NaN                NaN   \n",
       "2910                   NaN                NaN                NaN   \n",
       "2914                   NaN                NaN                NaN   \n",
       "\n",
       "      author_diggcount  author_verified  \n",
       "1154               NaN            False  \n",
       "2039               NaN            False  \n",
       "2337               NaN             True  \n",
       "2910               NaN            False  \n",
       "2914               NaN            False  \n",
       "\n",
       "[5 rows x 22 columns]"
      ]
     },
     "execution_count": 105,
     "metadata": {},
     "output_type": "execute_result"
    }
   ],
   "source": [
    "ads10824 = df10824[df10824['video_is_ad']==True]\n",
    "ads11111 = df11111[df11111['video_is_ad']==True]\n",
    "ads50405 = df50405[df50405['video_is_ad']==True]\n",
    "ads12345 = df12345[df12345['video_is_ad']==True]\n",
    "ads26301 = df26301[df26301['video_is_ad']==True]\n",
    "ads38129 = df38129[df38129['video_is_ad']==True]\n",
    "ads33534 = df33534[df33534['video_is_ad']==True]\n",
    "\n",
    "allads = [ads10824,ads11111,ads50405,ads12345,ads26301,ads38129,ads33534]\n",
    "\n",
    "for df in allads:\n",
    "    print(df.size)\n",
    "\n",
    "allads = [ads10824,ads50405,ads12345,ads26301,ads38129,ads33534]\n",
    "\n",
    "ads10824.head()"
   ]
  },
  {
   "cell_type": "code",
   "execution_count": 110,
   "metadata": {},
   "outputs": [
    {
     "name": "stderr",
     "output_type": "stream",
     "text": [
      "/var/folders/ls/b1_wv00s5r5fjstz103_p3rh0000gn/T/ipykernel_31834/826795073.py:1: SettingWithCopyWarning: \n",
      "A value is trying to be set on a copy of a slice from a DataFrame.\n",
      "Try using .loc[row_indexer,col_indexer] = value instead\n",
      "\n",
      "See the caveats in the documentation: https://pandas.pydata.org/pandas-docs/stable/user_guide/indexing.html#returning-a-view-versus-a-copy\n",
      "  ads50405['video_time_watched'] = pd.to_datetime(ads50405['video_time_watched'])\n"
     ]
    },
    {
     "data": {
      "text/plain": [
       "<Axes: xlabel='video_time_watched'>"
      ]
     },
     "execution_count": 110,
     "metadata": {},
     "output_type": "execute_result"
    },
    {
     "data": {
      "image/png": "[encoded data removed]",
      "text/plain": [
       "<Figure size 640x480 with 1 Axes>"
      ]
     },
     "metadata": {},
     "output_type": "display_data"
    }
   ],
   "source": [
    "ads50405['video_time_watched'] = pd.to_datetime(ads50405['video_time_watched'])\n",
    "monthlycounts = ads50405.groupby(ads50405['video_time_watched'].dt.to_period('M')).size()\n",
    "\n",
    "monthlycounts.plot(kind='line', marker='o', linestyle='-')\n"
   ]
  },
  {
   "cell_type": "code",
   "execution_count": 112,
   "metadata": {},
   "outputs": [
    {
     "name": "stderr",
     "output_type": "stream",
     "text": [
      "/var/folders/ls/b1_wv00s5r5fjstz103_p3rh0000gn/T/ipykernel_31834/2496381371.py:1: SettingWithCopyWarning: \n",
      "A value is trying to be set on a copy of a slice from a DataFrame.\n",
      "Try using .loc[row_indexer,col_indexer] = value instead\n",
      "\n",
      "See the caveats in the documentation: https://pandas.pydata.org/pandas-docs/stable/user_guide/indexing.html#returning-a-view-versus-a-copy\n",
      "  ads12345['video_time_watched'] = pd.to_datetime(ads12345['video_time_watched'])\n"
     ]
    },
    {
     "data": {
      "text/plain": [
       "<Axes: xlabel='video_time_watched'>"
      ]
     },
     "execution_count": 112,
     "metadata": {},
     "output_type": "execute_result"
    },
    {
     "data": {
      "image/png": "[encoded data removed]",
      "text/plain": [
       "<Figure size 640x480 with 1 Axes>"
      ]
     },
     "metadata": {},
     "output_type": "display_data"
    }
   ],
   "source": [
    "\n",
    "ads12345['video_time_watched'] = pd.to_datetime(ads12345['video_time_watched'])\n",
    "monthlycounts2 = ads12345.groupby(ads12345['video_time_watched'].dt.to_period('M')).size()\n",
    "\n",
    "monthlycounts2.plot(kind='line', marker='o', linestyle='-')"
   ]
  },
  {
   "cell_type": "code",
   "execution_count": 93,
   "metadata": {},
   "outputs": [
    {
     "name": "stderr",
     "output_type": "stream",
     "text": [
      "/var/folders/ls/b1_wv00s5r5fjstz103_p3rh0000gn/T/ipykernel_31834/1166844489.py:6: SettingWithCopyWarning: \n",
      "A value is trying to be set on a copy of a slice from a DataFrame.\n",
      "Try using .loc[row_indexer,col_indexer] = value instead\n",
      "\n",
      "See the caveats in the documentation: https://pandas.pydata.org/pandas-docs/stable/user_guide/indexing.html#returning-a-view-versus-a-copy\n",
      "  adsdf['video_time_watched'] = pd.to_datetime(adsdf['video_time_watched'])\n"
     ]
    },
    {
     "ename": "ValueError",
     "evalue": "zero-size array to reduction operation fmin which has no identity",
     "output_type": "error",
     "traceback": [
      "\u001b[0;31m---------------------------------------------------------------------------\u001b[0m",
      "\u001b[0;31mValueError\u001b[0m                                Traceback (most recent call last)",
      "Cell \u001b[0;32mIn[93], line 11\u001b[0m\n\u001b[1;32m      9\u001b[0m \u001b[38;5;66;03m# Plot the time series on the corresponding subplot\u001b[39;00m\n\u001b[1;32m     10\u001b[0m ax \u001b[38;5;241m=\u001b[39m axes[i]\n\u001b[0;32m---> 11\u001b[0m monthlycounts\u001b[38;5;241m.\u001b[39mplot(kind\u001b[38;5;241m=\u001b[39m\u001b[38;5;124m'\u001b[39m\u001b[38;5;124mline\u001b[39m\u001b[38;5;124m'\u001b[39m, marker\u001b[38;5;241m=\u001b[39m\u001b[38;5;124m'\u001b[39m\u001b[38;5;124mo\u001b[39m\u001b[38;5;124m'\u001b[39m, linestyle\u001b[38;5;241m=\u001b[39m\u001b[38;5;124m'\u001b[39m\u001b[38;5;124m-\u001b[39m\u001b[38;5;124m'\u001b[39m,ax\u001b[38;5;241m=\u001b[39max)\n\u001b[1;32m     13\u001b[0m \u001b[38;5;66;03m# Customize the subplot\u001b[39;00m\n\u001b[1;32m     14\u001b[0m ax\u001b[38;5;241m.\u001b[39mset_title(\u001b[38;5;124mf\u001b[39m\u001b[38;5;124m'\u001b[39m\u001b[38;5;124mDataframe \u001b[39m\u001b[38;5;132;01m{\u001b[39;00mi\u001b[38;5;241m+\u001b[39m\u001b[38;5;241m1\u001b[39m\u001b[38;5;132;01m}\u001b[39;00m\u001b[38;5;124m'\u001b[39m)\n",
      "File \u001b[0;32m~/miniconda3/lib/python3.11/site-packages/pandas/plotting/_core.py:1030\u001b[0m, in \u001b[0;36mPlotAccessor.__call__\u001b[0;34m(self, *args, **kwargs)\u001b[0m\n\u001b[1;32m   1027\u001b[0m             label_name \u001b[38;5;241m=\u001b[39m label_kw \u001b[38;5;129;01mor\u001b[39;00m data\u001b[38;5;241m.\u001b[39mcolumns\n\u001b[1;32m   1028\u001b[0m             data\u001b[38;5;241m.\u001b[39mcolumns \u001b[38;5;241m=\u001b[39m label_name\n\u001b[0;32m-> 1030\u001b[0m \u001b[38;5;28;01mreturn\u001b[39;00m plot_backend\u001b[38;5;241m.\u001b[39mplot(data, kind\u001b[38;5;241m=\u001b[39mkind, \u001b[38;5;241m*\u001b[39m\u001b[38;5;241m*\u001b[39mkwargs)\n",
      "File \u001b[0;32m~/miniconda3/lib/python3.11/site-packages/pandas/plotting/_matplotlib/__init__.py:71\u001b[0m, in \u001b[0;36mplot\u001b[0;34m(data, kind, **kwargs)\u001b[0m\n\u001b[1;32m     69\u001b[0m         kwargs[\u001b[38;5;124m\"\u001b[39m\u001b[38;5;124max\u001b[39m\u001b[38;5;124m\"\u001b[39m] \u001b[38;5;241m=\u001b[39m \u001b[38;5;28mgetattr\u001b[39m(ax, \u001b[38;5;124m\"\u001b[39m\u001b[38;5;124mleft_ax\u001b[39m\u001b[38;5;124m\"\u001b[39m, ax)\n\u001b[1;32m     70\u001b[0m plot_obj \u001b[38;5;241m=\u001b[39m PLOT_CLASSES[kind](data, \u001b[38;5;241m*\u001b[39m\u001b[38;5;241m*\u001b[39mkwargs)\n\u001b[0;32m---> 71\u001b[0m plot_obj\u001b[38;5;241m.\u001b[39mgenerate()\n\u001b[1;32m     72\u001b[0m plot_obj\u001b[38;5;241m.\u001b[39mdraw()\n\u001b[1;32m     73\u001b[0m \u001b[38;5;28;01mreturn\u001b[39;00m plot_obj\u001b[38;5;241m.\u001b[39mresult\n",
      "File \u001b[0;32m~/miniconda3/lib/python3.11/site-packages/pandas/plotting/_matplotlib/core.py:501\u001b[0m, in \u001b[0;36mMPLPlot.generate\u001b[0;34m(self)\u001b[0m\n\u001b[1;32m    499\u001b[0m \u001b[38;5;28mself\u001b[39m\u001b[38;5;241m.\u001b[39m_compute_plot_data()\n\u001b[1;32m    500\u001b[0m fig \u001b[38;5;241m=\u001b[39m \u001b[38;5;28mself\u001b[39m\u001b[38;5;241m.\u001b[39mfig\n\u001b[0;32m--> 501\u001b[0m \u001b[38;5;28mself\u001b[39m\u001b[38;5;241m.\u001b[39m_make_plot(fig)\n\u001b[1;32m    502\u001b[0m \u001b[38;5;28mself\u001b[39m\u001b[38;5;241m.\u001b[39m_add_table()\n\u001b[1;32m    503\u001b[0m \u001b[38;5;28mself\u001b[39m\u001b[38;5;241m.\u001b[39m_make_legend()\n",
      "File \u001b[0;32m~/miniconda3/lib/python3.11/site-packages/pandas/plotting/_matplotlib/core.py:1560\u001b[0m, in \u001b[0;36mLinePlot._make_plot\u001b[0;34m(self, fig)\u001b[0m\n\u001b[1;32m   1556\u001b[0m \u001b[38;5;28;01mif\u001b[39;00m \u001b[38;5;28mself\u001b[39m\u001b[38;5;241m.\u001b[39m_is_ts_plot():\n\u001b[1;32m   1557\u001b[0m     \u001b[38;5;66;03m# reset of xlim should be used for ts data\u001b[39;00m\n\u001b[1;32m   1558\u001b[0m     \u001b[38;5;66;03m# TODO: GH28021, should find a way to change view limit on xaxis\u001b[39;00m\n\u001b[1;32m   1559\u001b[0m     lines \u001b[38;5;241m=\u001b[39m get_all_lines(ax)\n\u001b[0;32m-> 1560\u001b[0m     left, right \u001b[38;5;241m=\u001b[39m get_xlim(lines)\n\u001b[1;32m   1561\u001b[0m     ax\u001b[38;5;241m.\u001b[39mset_xlim(left, right)\n",
      "File \u001b[0;32m~/miniconda3/lib/python3.11/site-packages/pandas/plotting/_matplotlib/tools.py:490\u001b[0m, in \u001b[0;36mget_xlim\u001b[0;34m(lines)\u001b[0m\n\u001b[1;32m    488\u001b[0m \u001b[38;5;28;01mfor\u001b[39;00m line \u001b[38;5;129;01min\u001b[39;00m lines:\n\u001b[1;32m    489\u001b[0m     x \u001b[38;5;241m=\u001b[39m line\u001b[38;5;241m.\u001b[39mget_xdata(orig\u001b[38;5;241m=\u001b[39m\u001b[38;5;28;01mFalse\u001b[39;00m)\n\u001b[0;32m--> 490\u001b[0m     left \u001b[38;5;241m=\u001b[39m \u001b[38;5;28mmin\u001b[39m(np\u001b[38;5;241m.\u001b[39mnanmin(x), left)\n\u001b[1;32m    491\u001b[0m     right \u001b[38;5;241m=\u001b[39m \u001b[38;5;28mmax\u001b[39m(np\u001b[38;5;241m.\u001b[39mnanmax(x), right)\n\u001b[1;32m    492\u001b[0m \u001b[38;5;28;01mreturn\u001b[39;00m left, right\n",
      "File \u001b[0;32m~/miniconda3/lib/python3.11/site-packages/numpy/lib/nanfunctions.py:343\u001b[0m, in \u001b[0;36mnanmin\u001b[0;34m(a, axis, out, keepdims, initial, where)\u001b[0m\n\u001b[1;32m    338\u001b[0m     kwargs[\u001b[38;5;124m'\u001b[39m\u001b[38;5;124mwhere\u001b[39m\u001b[38;5;124m'\u001b[39m] \u001b[38;5;241m=\u001b[39m where\n\u001b[1;32m    340\u001b[0m \u001b[38;5;28;01mif\u001b[39;00m \u001b[38;5;28mtype\u001b[39m(a) \u001b[38;5;129;01mis\u001b[39;00m np\u001b[38;5;241m.\u001b[39mndarray \u001b[38;5;129;01mand\u001b[39;00m a\u001b[38;5;241m.\u001b[39mdtype \u001b[38;5;241m!=\u001b[39m np\u001b[38;5;241m.\u001b[39mobject_:\n\u001b[1;32m    341\u001b[0m     \u001b[38;5;66;03m# Fast, but not safe for subclasses of ndarray, or object arrays,\u001b[39;00m\n\u001b[1;32m    342\u001b[0m     \u001b[38;5;66;03m# which do not implement isnan (gh-9009), or fmin correctly (gh-8975)\u001b[39;00m\n\u001b[0;32m--> 343\u001b[0m     res \u001b[38;5;241m=\u001b[39m np\u001b[38;5;241m.\u001b[39mfmin\u001b[38;5;241m.\u001b[39mreduce(a, axis\u001b[38;5;241m=\u001b[39maxis, out\u001b[38;5;241m=\u001b[39mout, \u001b[38;5;241m*\u001b[39m\u001b[38;5;241m*\u001b[39mkwargs)\n\u001b[1;32m    344\u001b[0m     \u001b[38;5;28;01mif\u001b[39;00m np\u001b[38;5;241m.\u001b[39misnan(res)\u001b[38;5;241m.\u001b[39many():\n\u001b[1;32m    345\u001b[0m         warnings\u001b[38;5;241m.\u001b[39mwarn(\u001b[38;5;124m\"\u001b[39m\u001b[38;5;124mAll-NaN slice encountered\u001b[39m\u001b[38;5;124m\"\u001b[39m, \u001b[38;5;167;01mRuntimeWarning\u001b[39;00m,\n\u001b[1;32m    346\u001b[0m                       stacklevel\u001b[38;5;241m=\u001b[39m\u001b[38;5;241m2\u001b[39m)\n",
      "\u001b[0;31mValueError\u001b[0m: zero-size array to reduction operation fmin which has no identity"
     ]
    },
    {
     "data": {
      "image/png": "[encoded data removed]",
      "text/plain": [
       "<Figure size 1000x2000 with 3 Axes>"
      ]
     },
     "metadata": {},
     "output_type": "display_data"
    }
   ],
   "source": [
    "someads = [ads10824,ads50405,ads12345]\n",
    "\n",
    "fig, axes = plt.subplots(nrows=3, ncols=1, figsize=(10, 20))\n",
    "\n",
    "for i, adsdf in enumerate(someads):\n",
    "    adsdf['video_time_watched'] = pd.to_datetime(adsdf['video_time_watched'])\n",
    "    monthlycounts = adsdf.groupby(adsdf['video_time_watched'].dt.to_period('M')).size()\n",
    "    \n",
    "    # Plot the time series on the corresponding subplot\n",
    "    ax = axes[i]\n",
    "    monthlycounts.plot(kind='line', marker='o', linestyle='-',ax=ax)\n",
    "    \n",
    "    # Customize the subplot\n",
    "    ax.set_title(f'Dataframe {i+1}')\n",
    "    ax.set_xlabel('Month')\n",
    "    ax.set_ylabel('Number of Rows')\n",
    "    ax.grid(True)"
   ]
  },
  {
   "cell_type": "code",
   "execution_count": 174,
   "metadata": {},
   "outputs": [
    {
     "name": "stdout",
     "output_type": "stream",
     "text": [
      "[13855]\n"
     ]
    }
   ],
   "source": [
    "new = processJson(sec1gr2_json)\n",
    "id = 7328816594363338030\n",
    "indices = new.query('video_id == 7328816594363338030').index.tolist()\n",
    "print(indices)\n",
    "#print(csv.duplicated(subset='video_id').sum())"
   ]
  }
 ],
 "metadata": {
  "kernelspec": {
   "display_name": "Python 3",
   "language": "python",
   "name": "python3"
  },
  "language_info": {
   "codemirror_mode": {
    "name": "ipython",
    "version": 3
   },
   "file_extension": ".py",
   "mimetype": "text/x-python",
   "name": "python",
   "nbconvert_exporter": "python",
   "pygments_lexer": "ipython3",
   "version": "3.11.5"
  }
 },
 "nbformat": 4,
 "nbformat_minor": 2
}

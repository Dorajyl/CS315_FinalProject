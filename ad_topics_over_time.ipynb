{
 "cells": [
  {
   "cell_type": "code",
   "execution_count": 2,
   "id": "caeff848",
   "metadata": {},
   "outputs": [],
   "source": [
    "import pandas as pd\n",
    "import matplotlib.pyplot as plt\n",
    "import seaborn as sns\n",
    "import os"
   ]
  },
  {
   "cell_type": "markdown",
   "id": "b2e2351d",
   "metadata": {},
   "source": [
    "## Load and Process Data"
   ]
  },
  {
   "cell_type": "code",
   "execution_count": 3,
   "id": "a81b017f",
   "metadata": {},
   "outputs": [],
   "source": [
    "# Load data from merged datasets folder\n",
    "df10824 = pd.read_csv('merged datasets/merged_10824.csv',index_col=0)\n",
    "df12345 = pd.read_csv('merged datasets/merged_12345.csv',index_col=0)\n",
    "df26301 = pd.read_csv('merged datasets/merged_26301.csv',index_col=0)\n",
    "df33534 = pd.read_csv('merged datasets/merged_33534.csv',index_col=0)\n",
    "df50405 = pd.read_csv('merged datasets/merged_50405.csv',index_col=0)\n",
    "\n",
    "# Remove extra \"Unnamed: 0\" column from df10824\n",
    "df10824.drop(['Unnamed: 0'],axis=1,inplace=True)"
   ]
  },
  {
   "cell_type": "code",
   "execution_count": 4,
   "id": "8b337ebe",
   "metadata": {},
   "outputs": [],
   "source": [
    "# Create codes and dfs lists for easier processing\n",
    "codes = ['10824','12345','26301','33534','50405']\n",
    "dfs = [df10824, df12345, df26301, df33534,df50405]"
   ]
  },
  {
   "cell_type": "code",
   "execution_count": 5,
   "id": "f545d3a5",
   "metadata": {},
   "outputs": [],
   "source": [
    "# Add useful columns to data\n",
    "for df, code in zip(dfs,codes):\n",
    "    # Convert 'Date' column to datetime\n",
    "    df['Date'] = pd.to_datetime(df['Date'])\n",
    "    \n",
    "    # Create additional columns for month and year\n",
    "    df['Year'] = df['Date'].dt.year #df['Date'].apply(lambda date:date.year)\n",
    "    df['Month'] = df['Date'].dt.month #df['Date'].apply(lambda date:date.month)\n",
    "    \n",
    "    # Create additional column for user's code\n",
    "    df['code'] = code"
   ]
  },
  {
   "cell_type": "code",
   "execution_count": 6,
   "id": "71526672",
   "metadata": {},
   "outputs": [],
   "source": [
    "# Create df with all data\n",
    "all_dfs = pd.concat(dfs)"
   ]
  },
  {
   "cell_type": "markdown",
   "id": "83d8364f",
   "metadata": {},
   "source": [
    "## Plot Topics Over Time"
   ]
  },
  {
   "cell_type": "code",
   "execution_count": null,
   "id": "f7b1ad03",
   "metadata": {},
   "outputs": [],
   "source": [
    "def plot_topics(df):\n",
    "    # Cre"
   ]
  }
 ],
 "metadata": {
  "kernelspec": {
   "display_name": "Python 3 (ipykernel)",
   "language": "python",
   "name": "python3"
  },
  "language_info": {
   "codemirror_mode": {
    "name": "ipython",
    "version": 3
   },
   "file_extension": ".py",
   "mimetype": "text/x-python",
   "name": "python",
   "nbconvert_exporter": "python",
   "pygments_lexer": "ipython3",
   "version": "3.10.8"
  }
 },
 "nbformat": 4,
 "nbformat_minor": 5
}

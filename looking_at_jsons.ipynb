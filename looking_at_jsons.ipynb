{
 "cells": [
  {
   "cell_type": "code",
   "execution_count": 272,
   "id": "b5fdd2eb",
   "metadata": {},
   "outputs": [],
   "source": [
    "import pandas as pd\n",
    "import os\n",
    "import json\n",
    "import re"
   ]
  },
  {
   "cell_type": "code",
   "execution_count": 273,
   "id": "dfe497c4",
   "metadata": {},
   "outputs": [
    {
     "data": {
      "text/plain": [
       "'/Users/edithpo/Documents/CS315/CS315_FinalProject'"
      ]
     },
     "execution_count": 273,
     "metadata": {},
     "output_type": "execute_result"
    }
   ],
   "source": [
    "pwd"
   ]
  },
  {
   "cell_type": "code",
   "execution_count": 274,
   "id": "1fec9f26",
   "metadata": {},
   "outputs": [
    {
     "name": "stdout",
     "output_type": "stream",
     "text": [
      "CompleteDateTime.ipynb           \u001b[34mmerged datasets\u001b[m\u001b[m/\r\n",
      "README.md                        \u001b[34mpyktok_data\u001b[m\u001b[m/\r\n",
      "ad_exploration.ipynb             topic_modeling.ipynb\r\n",
      "cs315project2datacollection.zip  \u001b[34muser_jsons\u001b[m\u001b[m/\r\n",
      "exploratory_analysis.ipynb       \u001b[34muser_jsons_tosplit\u001b[m\u001b[m/\r\n",
      "looking_at_jsons.ipynb\r\n"
     ]
    }
   ],
   "source": [
    "ls"
   ]
  },
  {
   "cell_type": "markdown",
   "id": "ef0fde5f",
   "metadata": {},
   "source": [
    "## Explore Data from our JSON Files"
   ]
  },
  {
   "cell_type": "code",
   "execution_count": 275,
   "id": "d0f299e0",
   "metadata": {},
   "outputs": [
    {
     "data": {
      "text/plain": [
       "['Sec1Gr3_11111.json',\n",
       " '.DS_Store',\n",
       " 'Sec1Gr1_10824.json',\n",
       " 'Sec2Gr2_69117.json',\n",
       " 'Merging Datasets.ipynb',\n",
       " 'Sec1Gr1_50405.json',\n",
       " 'Sec2Gr2_33534.json',\n",
       " '.ipynb_checkpoints',\n",
       " 'Sec1Gr1_12345.json',\n",
       " 'Sec2Gr2_26301.json',\n",
       " 'Sec2Gr2_38129.json']"
      ]
     },
     "execution_count": 275,
     "metadata": {},
     "output_type": "execute_result"
    }
   ],
   "source": [
    "os.listdir('user_jsons')"
   ]
  },
  {
   "cell_type": "code",
   "execution_count": 276,
   "id": "52296a16",
   "metadata": {},
   "outputs": [],
   "source": [
    "# codes = ['10824','11111','12345','26301','33534','38129','50405']\n",
    "codes = ['10824','12345','26301','33534','38129','50405']"
   ]
  },
  {
   "cell_type": "code",
   "execution_count": 277,
   "id": "e2c438d4",
   "metadata": {},
   "outputs": [],
   "source": [
    "# json_files = ['Sec1Gr1_10824.json',\n",
    "#               'Sec1Gr3_11111.json',\n",
    "#               'Sec1Gr1_12345.json',\n",
    "#               'Sec2Gr2_26301.json',\n",
    "#               'Sec2Gr2_33534.json',\n",
    "#               'Sec2Gr2_38129.json',\n",
    "#               'Sec1Gr1_50405.json']\n",
    "json_files = ['Sec1Gr1_10824.json',\n",
    "              'Sec1Gr1_12345.json',\n",
    "              'Sec2Gr2_26301.json',\n",
    "              'Sec2Gr2_33534.json',\n",
    "              'Sec2Gr2_38129.json',\n",
    "              'Sec1Gr1_50405.json']"
   ]
  },
  {
   "cell_type": "code",
   "execution_count": 278,
   "id": "becba3ae",
   "metadata": {},
   "outputs": [],
   "source": [
    "def process_jsons(filename):\n",
    "    # Load data\n",
    "    with open(f'user_jsons/{filename}') as fin:\n",
    "        data = json.load(fin)\n",
    "        \n",
    "        # Process data in dictionary format\n",
    "        if type(data) == dict:\n",
    "            print(f\"{filename} data loaded as a dictionary.\")\n",
    "            print(f\"Original Keys: {data.keys()}\")\n",
    "            print(f\"Retrieving data list from the 'data' key.\")\n",
    "            data_list_of_lists = data['data'] # retrieve only the timestamp and link as list\n",
    "            print(f\"First element of data list:\")\n",
    "            print(data_list_of_lists[0])\n",
    "            print(\"Transforming into list of dicts format:\")\n",
    "            data_list_of_dicts = [{'Date':elt[0],'Link':elt[1]} for elt in data_list_of_lists]\n",
    "            print(data_list_of_dicts[0])\n",
    "        else:\n",
    "            data_list_of_dicts = data\n",
    "            print(f\"{filename} data loaded as a list of dictionaries.\")\n",
    "            print(f\"First element of data list:\")\n",
    "            print(data_list_of_dicts[0])\n",
    "            \n",
    "    return data_list_of_dicts\n",
    "\n",
    "def get_video_id(link):\n",
    "    # Define the regex pattern\n",
    "    pattern = r'\\/(\\d+)\\/$'\n",
    "    match = re.search(pattern, link)\n",
    "    if match:\n",
    "        return match.group(1)\n",
    "    else:\n",
    "        print(f\"No match for link {link}\")\n",
    "        return \"\"\n",
    "    \n",
    "    \n",
    "def make_jsondf(filename):\n",
    "    '''Given filename of data file in user_json folder, \n",
    "    loads and saves data to new df with columns for watch time and link.\n",
    "    Adds a column for the user and for the video id.'''\n",
    "    # Get list of timestamps and links from json file\n",
    "    data = process_jsons(filename)\n",
    "    \n",
    "    # Create dataframe from the timestamp and link\n",
    "    json_df = pd.DataFrame(data,columns=['Date','Link'])\n",
    "    \n",
    "    # Add code column\n",
    "    json_df['Date'] = pd.to_datetime(json_df['Date'])\n",
    "    json_df['Month'] = json_df['Date'].apply(lambda date: date.month)\n",
    "    json_df['Year'] = json_df['Date'].apply(lambda date: date.year)\n",
    "    json_df['code'] = filename[-10:-5]\n",
    "    json_df['video_id'] = json_df['Link'].apply(get_video_id)\n",
    "    return json_df"
   ]
  },
  {
   "cell_type": "code",
   "execution_count": 279,
   "id": "13add56c",
   "metadata": {},
   "outputs": [
    {
     "name": "stdout",
     "output_type": "stream",
     "text": [
      "Sec1Gr1_10824.json data loaded as a dictionary.\n",
      "Original Keys: dict_keys(['columns', 'index', 'data'])\n",
      "Retrieving data list from the 'data' key.\n",
      "First element of data list:\n",
      "['2024-02-09 23:35:22', 'https://www.tiktokv.com/share/video/7328672125441658117/']\n",
      "Transforming into list of dicts format:\n",
      "{'Date': '2024-02-09 23:35:22', 'Link': 'https://www.tiktokv.com/share/video/7328672125441658117/'}\n",
      "Sec1Gr1_12345.json data loaded as a dictionary.\n",
      "Original Keys: dict_keys(['columns', 'index', 'data'])\n",
      "Retrieving data list from the 'data' key.\n",
      "First element of data list:\n",
      "['2024-02-26 02:58:45', 'https://www.tiktokv.com/share/video/7331569476502064414/']\n",
      "Transforming into list of dicts format:\n",
      "{'Date': '2024-02-26 02:58:45', 'Link': 'https://www.tiktokv.com/share/video/7331569476502064414/'}\n",
      "Sec2Gr2_26301.json data loaded as a list of dictionaries.\n",
      "First element of data list:\n",
      "{'Date': '2024-03-06 19:44:41', 'Link': 'https://www.tiktokv.com/share/video/7315561816673750318/'}\n",
      "Sec2Gr2_33534.json data loaded as a list of dictionaries.\n",
      "First element of data list:\n",
      "{'Date': '2024-02-03 22:32:47', 'Link': 'https://www.tiktokv.com/share/video/7331462048699649323/'}\n",
      "Sec2Gr2_38129.json data loaded as a list of dictionaries.\n",
      "First element of data list:\n",
      "{'Date': '2024-03-08 03:42:17', 'Link': 'https://www.tiktokv.com/share/video/7343758155492642053/'}\n",
      "Sec1Gr1_50405.json data loaded as a dictionary.\n",
      "Original Keys: dict_keys(['columns', 'index', 'data'])\n",
      "Retrieving data list from the 'data' key.\n",
      "First element of data list:\n",
      "['2023-11-18 01:27:59', 'https://www.tiktokv.com/share/video/7298064289510804779/']\n",
      "Transforming into list of dicts format:\n",
      "{'Date': '2023-11-18 01:27:59', 'Link': 'https://www.tiktokv.com/share/video/7298064289510804779/'}\n"
     ]
    }
   ],
   "source": [
    "df10824 = make_jsondf('Sec1Gr1_10824.json')\n",
    "# df11111 = make_jsondf('Sec1Gr3_11111.json')\n",
    "df12345 = make_jsondf('Sec1Gr1_12345.json')\n",
    "df26301 = make_jsondf('Sec2Gr2_26301.json')\n",
    "df33534 = make_jsondf('Sec2Gr2_33534.json')\n",
    "df38129 = make_jsondf('Sec2Gr2_38129.json')\n",
    "df50405 = make_jsondf('Sec1Gr1_50405.json')\n",
    "# df_list = [df10824,df11111,df12345,df33534,df38129,df50405]\n",
    "df_list = [df10824,df12345,df33534,df38129,df50405]\n",
    "all_json = pd.concat(df_list)"
   ]
  },
  {
   "cell_type": "code",
   "execution_count": 281,
   "id": "571a2036",
   "metadata": {},
   "outputs": [
    {
     "data": {
      "text/html": [
       "<div>\n",
       "<style scoped>\n",
       "    .dataframe tbody tr th:only-of-type {\n",
       "        vertical-align: middle;\n",
       "    }\n",
       "\n",
       "    .dataframe tbody tr th {\n",
       "        vertical-align: top;\n",
       "    }\n",
       "\n",
       "    .dataframe thead th {\n",
       "        text-align: right;\n",
       "    }\n",
       "</style>\n",
       "<table border=\"1\" class=\"dataframe\">\n",
       "  <thead>\n",
       "    <tr style=\"text-align: right;\">\n",
       "      <th></th>\n",
       "      <th>Date</th>\n",
       "      <th>Link</th>\n",
       "      <th>Month</th>\n",
       "      <th>Year</th>\n",
       "      <th>code</th>\n",
       "      <th>video_id</th>\n",
       "    </tr>\n",
       "  </thead>\n",
       "  <tbody>\n",
       "    <tr>\n",
       "      <th>0</th>\n",
       "      <td>2024-02-09 23:35:22</td>\n",
       "      <td>https://www.tiktokv.com/share/video/7328672125...</td>\n",
       "      <td>2</td>\n",
       "      <td>2024</td>\n",
       "      <td>10824</td>\n",
       "      <td>7328672125441658117</td>\n",
       "    </tr>\n",
       "    <tr>\n",
       "      <th>1</th>\n",
       "      <td>2024-02-26 23:29:56</td>\n",
       "      <td>https://www.tiktokv.com/share/video/7326611895...</td>\n",
       "      <td>2</td>\n",
       "      <td>2024</td>\n",
       "      <td>10824</td>\n",
       "      <td>7326611895509585185</td>\n",
       "    </tr>\n",
       "    <tr>\n",
       "      <th>2</th>\n",
       "      <td>2024-02-26 23:28:15</td>\n",
       "      <td>https://www.tiktokv.com/share/video/7324765984...</td>\n",
       "      <td>2</td>\n",
       "      <td>2024</td>\n",
       "      <td>10824</td>\n",
       "      <td>7324765984139644192</td>\n",
       "    </tr>\n",
       "    <tr>\n",
       "      <th>3</th>\n",
       "      <td>2024-02-26 23:27:53</td>\n",
       "      <td>https://www.tiktokv.com/share/video/7329768535...</td>\n",
       "      <td>2</td>\n",
       "      <td>2024</td>\n",
       "      <td>10824</td>\n",
       "      <td>7329768535524429102</td>\n",
       "    </tr>\n",
       "    <tr>\n",
       "      <th>4</th>\n",
       "      <td>2024-02-26 23:27:42</td>\n",
       "      <td>https://www.tiktokv.com/share/video/7338541911...</td>\n",
       "      <td>2</td>\n",
       "      <td>2024</td>\n",
       "      <td>10824</td>\n",
       "      <td>7338541911629745414</td>\n",
       "    </tr>\n",
       "    <tr>\n",
       "      <th>...</th>\n",
       "      <td>...</td>\n",
       "      <td>...</td>\n",
       "      <td>...</td>\n",
       "      <td>...</td>\n",
       "      <td>...</td>\n",
       "      <td>...</td>\n",
       "    </tr>\n",
       "    <tr>\n",
       "      <th>26112</th>\n",
       "      <td>2023-08-05 01:01:28</td>\n",
       "      <td>https://www.tiktokv.com/share/video/7259854730...</td>\n",
       "      <td>8</td>\n",
       "      <td>2023</td>\n",
       "      <td>50405</td>\n",
       "      <td>7259854730082536747</td>\n",
       "    </tr>\n",
       "    <tr>\n",
       "      <th>26113</th>\n",
       "      <td>2023-08-05 01:01:06</td>\n",
       "      <td>https://www.tiktokv.com/share/video/7262065549...</td>\n",
       "      <td>8</td>\n",
       "      <td>2023</td>\n",
       "      <td>50405</td>\n",
       "      <td>7262065549394365702</td>\n",
       "    </tr>\n",
       "    <tr>\n",
       "      <th>26114</th>\n",
       "      <td>2023-08-05 01:01:03</td>\n",
       "      <td>https://www.tiktokv.com/share/video/7250606200...</td>\n",
       "      <td>8</td>\n",
       "      <td>2023</td>\n",
       "      <td>50405</td>\n",
       "      <td>7250606200684055854</td>\n",
       "    </tr>\n",
       "    <tr>\n",
       "      <th>26115</th>\n",
       "      <td>2023-08-05 00:37:57</td>\n",
       "      <td>https://www.tiktokv.com/share/video/7263265961...</td>\n",
       "      <td>8</td>\n",
       "      <td>2023</td>\n",
       "      <td>50405</td>\n",
       "      <td>7263265961359281413</td>\n",
       "    </tr>\n",
       "    <tr>\n",
       "      <th>26116</th>\n",
       "      <td>2023-08-05 00:20:07</td>\n",
       "      <td>https://www.tiktokv.com/share/video/7262829334...</td>\n",
       "      <td>8</td>\n",
       "      <td>2023</td>\n",
       "      <td>50405</td>\n",
       "      <td>7262829334925200686</td>\n",
       "    </tr>\n",
       "  </tbody>\n",
       "</table>\n",
       "<p>113291 rows × 6 columns</p>\n",
       "</div>"
      ],
      "text/plain": [
       "                     Date                                               Link  \\\n",
       "0     2024-02-09 23:35:22  https://www.tiktokv.com/share/video/7328672125...   \n",
       "1     2024-02-26 23:29:56  https://www.tiktokv.com/share/video/7326611895...   \n",
       "2     2024-02-26 23:28:15  https://www.tiktokv.com/share/video/7324765984...   \n",
       "3     2024-02-26 23:27:53  https://www.tiktokv.com/share/video/7329768535...   \n",
       "4     2024-02-26 23:27:42  https://www.tiktokv.com/share/video/7338541911...   \n",
       "...                   ...                                                ...   \n",
       "26112 2023-08-05 01:01:28  https://www.tiktokv.com/share/video/7259854730...   \n",
       "26113 2023-08-05 01:01:06  https://www.tiktokv.com/share/video/7262065549...   \n",
       "26114 2023-08-05 01:01:03  https://www.tiktokv.com/share/video/7250606200...   \n",
       "26115 2023-08-05 00:37:57  https://www.tiktokv.com/share/video/7263265961...   \n",
       "26116 2023-08-05 00:20:07  https://www.tiktokv.com/share/video/7262829334...   \n",
       "\n",
       "       Month  Year   code             video_id  \n",
       "0          2  2024  10824  7328672125441658117  \n",
       "1          2  2024  10824  7326611895509585185  \n",
       "2          2  2024  10824  7324765984139644192  \n",
       "3          2  2024  10824  7329768535524429102  \n",
       "4          2  2024  10824  7338541911629745414  \n",
       "...      ...   ...    ...                  ...  \n",
       "26112      8  2023  50405  7259854730082536747  \n",
       "26113      8  2023  50405  7262065549394365702  \n",
       "26114      8  2023  50405  7250606200684055854  \n",
       "26115      8  2023  50405  7263265961359281413  \n",
       "26116      8  2023  50405  7262829334925200686  \n",
       "\n",
       "[113291 rows x 6 columns]"
      ]
     },
     "execution_count": 281,
     "metadata": {},
     "output_type": "execute_result"
    }
   ],
   "source": [
    "all_json"
   ]
  },
  {
   "cell_type": "code",
   "execution_count": 283,
   "id": "8c532aae",
   "metadata": {
    "scrolled": false
   },
   "outputs": [
    {
     "data": {
      "text/plain": [
       "code   Year  Month\n",
       "10824  2023  11       14114\n",
       "             12        2940\n",
       "       2024  2         9213\n",
       "12345  2023  9         2985\n",
       "             11        1964\n",
       "             12        5558\n",
       "       2024  1         5299\n",
       "             2         4038\n",
       "             3          777\n",
       "33534  2023  9         5075\n",
       "             10        5652\n",
       "             11        7317\n",
       "             12        8746\n",
       "       2024  1         9758\n",
       "             2         3706\n",
       "38129  2024  2           25\n",
       "             3            7\n",
       "50405  2023  8        10053\n",
       "             9         1044\n",
       "             10        1540\n",
       "             11        1003\n",
       "             12        6047\n",
       "       2024  1         6295\n",
       "             2          135\n",
       "Name: count, dtype: int64"
      ]
     },
     "execution_count": 283,
     "metadata": {},
     "output_type": "execute_result"
    }
   ],
   "source": [
    "# Find the number of videos in each year/month for each user\n",
    "all_json.groupby('code')[['Year','Month']].value_counts().sort_index()\n",
    "\n",
    "\n",
    "# # Code to do the same thing\n",
    "# for df, code in zip(df_list,codes):\n",
    "#     print(\"User\",code)\n",
    "#     print(df[['Year','Month']].value_counts().sort_index())\n",
    "#     print()"
   ]
  },
  {
   "cell_type": "code",
   "execution_count": 284,
   "id": "775ac85b",
   "metadata": {},
   "outputs": [
    {
     "data": {
      "text/html": [
       "<div>\n",
       "<style scoped>\n",
       "    .dataframe tbody tr th:only-of-type {\n",
       "        vertical-align: middle;\n",
       "    }\n",
       "\n",
       "    .dataframe tbody tr th {\n",
       "        vertical-align: top;\n",
       "    }\n",
       "\n",
       "    .dataframe thead th {\n",
       "        text-align: right;\n",
       "    }\n",
       "</style>\n",
       "<table border=\"1\" class=\"dataframe\">\n",
       "  <thead>\n",
       "    <tr style=\"text-align: right;\">\n",
       "      <th></th>\n",
       "      <th>Date</th>\n",
       "      <th>Link</th>\n",
       "      <th>Month</th>\n",
       "      <th>Year</th>\n",
       "      <th>video_id</th>\n",
       "    </tr>\n",
       "    <tr>\n",
       "      <th>code</th>\n",
       "      <th></th>\n",
       "      <th></th>\n",
       "      <th></th>\n",
       "      <th></th>\n",
       "      <th></th>\n",
       "    </tr>\n",
       "  </thead>\n",
       "  <tbody>\n",
       "    <tr>\n",
       "      <th>10824</th>\n",
       "      <td>26267</td>\n",
       "      <td>26267</td>\n",
       "      <td>26267</td>\n",
       "      <td>26267</td>\n",
       "      <td>26267</td>\n",
       "    </tr>\n",
       "    <tr>\n",
       "      <th>12345</th>\n",
       "      <td>20621</td>\n",
       "      <td>20621</td>\n",
       "      <td>20621</td>\n",
       "      <td>20621</td>\n",
       "      <td>20621</td>\n",
       "    </tr>\n",
       "    <tr>\n",
       "      <th>33534</th>\n",
       "      <td>40254</td>\n",
       "      <td>40254</td>\n",
       "      <td>40254</td>\n",
       "      <td>40254</td>\n",
       "      <td>40254</td>\n",
       "    </tr>\n",
       "    <tr>\n",
       "      <th>38129</th>\n",
       "      <td>32</td>\n",
       "      <td>32</td>\n",
       "      <td>32</td>\n",
       "      <td>32</td>\n",
       "      <td>32</td>\n",
       "    </tr>\n",
       "    <tr>\n",
       "      <th>50405</th>\n",
       "      <td>26117</td>\n",
       "      <td>26117</td>\n",
       "      <td>26117</td>\n",
       "      <td>26117</td>\n",
       "      <td>26117</td>\n",
       "    </tr>\n",
       "  </tbody>\n",
       "</table>\n",
       "</div>"
      ],
      "text/plain": [
       "        Date   Link  Month   Year  video_id\n",
       "code                                       \n",
       "10824  26267  26267  26267  26267     26267\n",
       "12345  20621  20621  20621  20621     20621\n",
       "33534  40254  40254  40254  40254     40254\n",
       "38129     32     32     32     32        32\n",
       "50405  26117  26117  26117  26117     26117"
      ]
     },
     "execution_count": 284,
     "metadata": {},
     "output_type": "execute_result"
    }
   ],
   "source": [
    "all_json.groupby('code').count()"
   ]
  },
  {
   "cell_type": "markdown",
   "id": "b97632a8",
   "metadata": {},
   "source": [
    "## Reformat JSON Files for Data Collection - USER 26301"
   ]
  },
  {
   "cell_type": "code",
   "execution_count": 111,
   "id": "64bc8ab0",
   "metadata": {},
   "outputs": [],
   "source": [
    "# print(os.listdir('user_jsons_tosplit'))\n",
    "\n",
    "# def convert2json(row):\n",
    "#     result = {\"Date\":row[\"Date\"],\n",
    "#               \"Link\":row[\"Link\"]}\n",
    "#     return result\n",
    "\n",
    "# # Add a new column with correctly formatted dict\n",
    "# user26301 = make_json_df('Sec2Gr2_26301.json',26301)\n",
    "# user26301[\"dict\"] = user26301.apply(convert2json, axis=1)\n",
    "# print(user26301.shape)\n",
    "# print(user26301.head())\n",
    "\n",
    "\n",
    "# # Turn into list\n",
    "# user26301 = user26301['dict'].tolist()\n",
    "\n",
    "# print(len(user26301))\n",
    "\n",
    "# # Split the df into parts\n",
    "# part1 = user26301[:12000]\n",
    "# part2 = user26301[12000:24000]\n",
    "# part3 = user26301[24000:36000]\n",
    "# part4 = user26301[36000:48000]\n",
    "# part5 = user26301[48000:60000]\n",
    "# part6 = user26301[72000:82371]\n",
    "\n",
    "\n",
    "# parts = [part1, part2, part3, part4, part5, part6]\n",
    "# fnames = ['Sec2Gr2_26301_1.json','Sec2Gr2_26301_2.json',\n",
    "#           'Sec2Gr2_26301_3.json','Sec2Gr2_26301_4.json',\n",
    "#           'Sec2Gr2_26301_5.json','Sec2Gr2_26301_6.json']\n",
    "    \n",
    "# for part, fn in zip(parts, fnames):\n",
    "#     with open(f\"user_jsons_tosplit/{fn}\",\"w\") as outfile:\n",
    "#         json_object = json.dumps(part, indent=4)\n",
    "#         outfile.write(json_object)\n",
    "    "
   ]
  },
  {
   "cell_type": "markdown",
   "id": "abedea0f",
   "metadata": {},
   "source": [
    "## Check JSON Data Against Pyktok Metadata"
   ]
  },
  {
   "cell_type": "code",
   "execution_count": 215,
   "id": "9f26be1c",
   "metadata": {},
   "outputs": [
    {
     "data": {
      "text/plain": [
       "['results_12345.csv',\n",
       " 'results_50405.csv',\n",
       " 'results_50405_full.csv',\n",
       " 'results_12345(19019 rows).csv',\n",
       " 'results_10824.2.csv',\n",
       " 'results_50405_secondHalf.csv',\n",
       " 'results_10824.csv',\n",
       " 'results_10824_full.csv']"
      ]
     },
     "execution_count": 215,
     "metadata": {},
     "output_type": "execute_result"
    }
   ],
   "source": [
    "os.listdir('other_pyktok_data')"
   ]
  },
  {
   "cell_type": "code",
   "execution_count": 267,
   "id": "c7887fdf",
   "metadata": {},
   "outputs": [],
   "source": [
    "# pyk10824 = pd.read_csv('other_pyktok_data/results_10824_full.csv')\n",
    "pyk12345_1 = pd.read_csv('other_pyktok_data/results_12345(19019 rows).csv') \n",
    "pyk12345_2 = pd.read_csv('other_pyktok_data/results_12345.csv')\n",
    "pyk12345 = pd.concat([pyk12345_1,pyk12345_2])\n",
    "\n",
    "pyk50405 = pd.read_csv('other_pyktok_data/results_50405_full.csv')"
   ]
  },
  {
   "cell_type": "code",
   "execution_count": 268,
   "id": "36c95056",
   "metadata": {},
   "outputs": [],
   "source": [
    "def check_dup(df):\n",
    "    dupdf = df.duplicated().reset_index()\n",
    "    dupdf.columns = ['index','isdup']\n",
    "    return dupdf[dupdf['isdup']==True]"
   ]
  },
  {
   "cell_type": "code",
   "execution_count": 264,
   "id": "3f04c6c8",
   "metadata": {},
   "outputs": [
    {
     "name": "stdout",
     "output_type": "stream",
     "text": [
      "19102\n",
      "18093\n",
      "\n",
      "5951\n",
      "5531\n",
      "\n"
     ]
    }
   ],
   "source": [
    "for vid_df in [vids,vids2]:\n",
    "    print(len(vid_df))\n",
    "    print(len(vid_df.unique()))\n",
    "    print()"
   ]
  },
  {
   "cell_type": "code",
   "execution_count": 242,
   "id": "1da85871",
   "metadata": {},
   "outputs": [
    {
     "data": {
      "text/plain": [
       "['.DS_Store',\n",
       " 'Sec1Gr3_11111.csv',\n",
       " 'Sec2Gr3_77777.csv',\n",
       " 'Sec2Gr3_77217.csv',\n",
       " 'Sec2Gr3_74721.csv',\n",
       " 'Sec1Gr1_50405.csv',\n",
       " 'Sec1Gr1_12345.csv',\n",
       " 'results_26301_1.csv',\n",
       " 'results_26301_2.csv',\n",
       " 'Sec1Gr2_26301.csv',\n",
       " '.ipynb_checkpoints',\n",
       " 'Sec1Gr2_38129.csv',\n",
       " 'Sec1Gr2_33534.csv',\n",
       " 'results_12345_2.csv']"
      ]
     },
     "execution_count": 242,
     "metadata": {},
     "output_type": "execute_result"
    }
   ],
   "source": [
    "os.listdir('pyktok_data')"
   ]
  },
  {
   "cell_type": "markdown",
   "id": "2003c35b",
   "metadata": {},
   "source": [
    "### Load Pyktok Metadata"
   ]
  },
  {
   "cell_type": "code",
   "execution_count": 258,
   "id": "9dc3c8d7",
   "metadata": {},
   "outputs": [
    {
     "name": "stderr",
     "output_type": "stream",
     "text": [
      "/var/folders/yl/zl57ck115t9_8v83kxw1gtc40000gn/T/ipykernel_18851/324992950.py:15: DtypeWarning: Columns (8,16,17,18) have mixed types. Specify dtype option on import or set low_memory=False.\n",
      "  pyk11111_original = pd.read_csv('pyktok_data/Sec1Gr3_11111.csv')\n"
     ]
    }
   ],
   "source": [
    "keep_cols = ['video_id', 'video_is_ad','author_username','author_name',\n",
    "             'suggested_words','video_description']\n",
    "\n",
    "# ['video_id', 'video_timestamp', 'video_duration',\n",
    "#        'video_locationcreated', 'suggested_words', 'video_diggcount',\n",
    "#        'video_sharecount', 'video_commentcount', 'video_playcount',\n",
    "#        'video_description', 'video_is_ad', 'video_stickers', 'author_username',\n",
    "#        'author_name', 'author_followercount', 'author_followingcount',\n",
    "#        'author_heartcount', 'author_videocount', 'author_diggcount',\n",
    "#        'author_verified']\n",
    "\n",
    "pyk10824 = pd.read_csv('pyktok_data/Sec1Gr1_10824.csv')\n",
    "pyk10824 = pyk10824.loc[:,keep_cols]\n",
    "\n",
    "pyk11111_original = pd.read_csv('pyktok_data/Sec1Gr3_11111.csv')\n",
    "pyk11111_original = pyk11111_original.loc[:,keep_cols]\n",
    "\n",
    "# pyk12345 = pd.read_csv('pyktok_data/Sec1Gr1_12345.csv')\n",
    "# pyk12345 = pyk12345.loc[:,keep_cols]\n",
    "\n",
    "pyk26301 = pd.read_csv('pyktok_data/Sec1Gr2_26301.csv')\n",
    "pyk26301 = pyk26301.loc[:,keep_cols]\n",
    "\n",
    "pyk33534 = pd.read_csv('pyktok_data/Sec1Gr2_33534.csv')\n",
    "pyk33534 = pyk33534.loc[:,keep_cols]\n",
    "\n",
    "pyk38129 = pd.read_csv('pyktok_data/Sec1Gr2_38129.csv')\n",
    "pyk38129 = pyk38129.loc[:,keep_cols]\n",
    "\n",
    "# pyk50405 = pd.read_csv('pyktok_data/Sec1Gr1_50405.csv')\n",
    "# pyk50405 = pyk50405.loc[:,keep_cols]"
   ]
  },
  {
   "cell_type": "code",
   "execution_count": 257,
   "id": "70da6aa2",
   "metadata": {},
   "outputs": [],
   "source": [
    "for vid2 in vids3.to_list():\n",
    "    if vid2 not in vids.to_list():\n",
    "        print(vid2)"
   ]
  },
  {
   "cell_type": "code",
   "execution_count": null,
   "id": "4a469b52",
   "metadata": {},
   "outputs": [],
   "source": []
  },
  {
   "cell_type": "code",
   "execution_count": 227,
   "id": "145d808a",
   "metadata": {},
   "outputs": [],
   "source": [
    "s = \"\"\"d10824 = pd.read_csv('pyktok_data/Sec1Gr1_10824.csv')\n",
    "df10824 = df10824.loc[:,keep_cols]\n",
    "\n",
    "df11111_original = pd.read_csv('pyktok_data/Sec1Gr3_11111.csv')\n",
    "df11111_original = df11111_original.loc[:,keep_cols]\n",
    "\n",
    "df12345 = pd.read_csv('pyktok_data/Sec1Gr1_12345.csv')\n",
    "df12345 = df12345.loc[:,keep_cols]\n",
    "\n",
    "df26301 = pd.read_csv('pyktok_data/Sec1Gr2_26301.csv')\n",
    "df26301 = df26301.loc[:,keep_cols]\n",
    "\n",
    "df33534 = pd.read_csv('pyktok_data/Sec1Gr2_33534.csv')\n",
    "df33534 = df33534.loc[:,keep_cols]\n",
    "\n",
    "df38129 = pd.read_csv('pyktok_data/Sec1Gr2_38129.csv')\n",
    "df38129 = df38129.loc[:,keep_cols]\n",
    "\n",
    "df50405 = pd.read_csv('pyktok_data/Sec1Gr1_50405.csv')\n",
    "df50405 = df50405.loc[:,keep_cols]\"\"\".replace('df','pyk')"
   ]
  },
  {
   "cell_type": "code",
   "execution_count": 228,
   "id": "e4bcbba1",
   "metadata": {},
   "outputs": [
    {
     "name": "stdout",
     "output_type": "stream",
     "text": [
      "d10824 = pd.read_csv('pyktok_data/Sec1Gr1_10824.csv')\n",
      "pyk10824 = pyk10824.loc[:,keep_cols]\n",
      "\n",
      "pyk11111_original = pd.read_csv('pyktok_data/Sec1Gr3_11111.csv')\n",
      "pyk11111_original = pyk11111_original.loc[:,keep_cols]\n",
      "\n",
      "pyk12345 = pd.read_csv('pyktok_data/Sec1Gr1_12345.csv')\n",
      "pyk12345 = pyk12345.loc[:,keep_cols]\n",
      "\n",
      "pyk26301 = pd.read_csv('pyktok_data/Sec1Gr2_26301.csv')\n",
      "pyk26301 = pyk26301.loc[:,keep_cols]\n",
      "\n",
      "pyk33534 = pd.read_csv('pyktok_data/Sec1Gr2_33534.csv')\n",
      "pyk33534 = pyk33534.loc[:,keep_cols]\n",
      "\n",
      "pyk38129 = pd.read_csv('pyktok_data/Sec1Gr2_38129.csv')\n",
      "pyk38129 = pyk38129.loc[:,keep_cols]\n",
      "\n",
      "pyk50405 = pd.read_csv('pyktok_data/Sec1Gr1_50405.csv')\n",
      "pyk50405 = pyk50405.loc[:,keep_cols]\n"
     ]
    }
   ],
   "source": [
    "print(s)"
   ]
  }
 ],
 "metadata": {
  "kernelspec": {
   "display_name": "Python 3 (ipykernel)",
   "language": "python",
   "name": "python3"
  },
  "language_info": {
   "codemirror_mode": {
    "name": "ipython",
    "version": 3
   },
   "file_extension": ".py",
   "mimetype": "text/x-python",
   "name": "python",
   "nbconvert_exporter": "python",
   "pygments_lexer": "ipython3",
   "version": "3.10.8"
  }
 },
 "nbformat": 4,
 "nbformat_minor": 5
}

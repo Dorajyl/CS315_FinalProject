{
 "cells": [
  {
   "cell_type": "code",
   "execution_count": 74,
   "id": "d7db5afd",
   "metadata": {},
   "outputs": [],
   "source": [
    "import pandas as pd\n",
    "import os\n",
    "import json\n",
    "import re"
   ]
  },
  {
   "cell_type": "code",
   "execution_count": 75,
   "id": "e53ccef9",
   "metadata": {},
   "outputs": [
    {
     "name": "stdout",
     "output_type": "stream",
     "text": [
      "CompleteDateTime.ipynb      \u001b[34mpyktok_data\u001b[m\u001b[m/\r\n",
      "README.md                   topic_modeling.ipynb\r\n",
      "exploratory_analysis.ipynb  \u001b[34muser_jsons\u001b[m\u001b[m/\r\n",
      "looking_at_jsons.ipynb      \u001b[34muser_jsons_tosplit\u001b[m\u001b[m/\r\n",
      "\u001b[34mpyktok\u001b[m\u001b[m/\r\n"
     ]
    }
   ],
   "source": [
    "ls"
   ]
  },
  {
   "cell_type": "code",
   "execution_count": 76,
   "id": "643cf838",
   "metadata": {},
   "outputs": [
    {
     "data": {
      "text/plain": [
       "['Sec1Gr3_11111.json',\n",
       " '.DS_Store',\n",
       " 'Sec1Gr1_10824.json',\n",
       " 'Sec2Gr2_69117.json',\n",
       " 'Sec1Gr1_50405.json',\n",
       " 'Sec2Gr2_33534.json',\n",
       " 'Sec1Gr1_12345.json',\n",
       " 'Sec2Gr2_26301.json',\n",
       " 'Sec2Gr2_38129.json']"
      ]
     },
     "execution_count": 76,
     "metadata": {},
     "output_type": "execute_result"
    }
   ],
   "source": [
    "os.listdir('user_jsons')"
   ]
  },
  {
   "cell_type": "code",
   "execution_count": 77,
   "id": "c2a497af",
   "metadata": {},
   "outputs": [],
   "source": [
    "codes = ['10824','11111','12345','26301','33534','38129','50405']"
   ]
  },
  {
   "cell_type": "code",
   "execution_count": 78,
   "id": "af52e5e5",
   "metadata": {},
   "outputs": [],
   "source": [
    "json_files = ['Sec1Gr1_10824.json',\n",
    "              'Sec1Gr3_11111.json',\n",
    "              'Sec1Gr1_12345.json',\n",
    "              'Sec2Gr2_26301.json',\n",
    "              'Sec2Gr2_33534.json',\n",
    "              'Sec2Gr2_38129.json',\n",
    "              'Sec1Gr1_50405.json']"
   ]
  },
  {
   "cell_type": "code",
   "execution_count": 82,
   "id": "30134bc2",
   "metadata": {},
   "outputs": [],
   "source": [
    "def get_timestamps_links_list(filename):\n",
    "    with open(f'user_jsons/{filename}') as fin:\n",
    "        data = json.load(fin)\n",
    "        print(type(data))\n",
    "        if type(data) == dict:\n",
    "            print(\"JSON DATA LOADED AS DICTIONARY\")\n",
    "            data = data['data'] # retrieve only the timestamp and link as list\n",
    "#             print(type(data))\n",
    "#             print(data[:3])\n",
    "        else:\n",
    "            print(\"JSON DATA LOADED AS LIST\")\n",
    "#             print(data[:3])\n",
    "    return data"
   ]
  },
  {
   "cell_type": "code",
   "execution_count": 62,
   "id": "22060194",
   "metadata": {},
   "outputs": [],
   "source": [
    "def get_video_id(link):\n",
    "    # Define the regex pattern\n",
    "    pattern = r'\\/(\\d+)\\/$'\n",
    "    match = re.search(pattern, link)\n",
    "    if match:\n",
    "        return match.group(1)\n",
    "    else:\n",
    "        print(f\"No match for link {link}\")\n",
    "        return \"\""
   ]
  },
  {
   "cell_type": "code",
   "execution_count": 84,
   "id": "910a4ebd",
   "metadata": {},
   "outputs": [],
   "source": [
    "def make_json_df(filename, code):\n",
    "    '''Given filename of data file in user_json folder, \n",
    "    loads and saves data to new df with columns for watch time and link.\n",
    "    Adds a column for the user and for the video id.'''\n",
    "    # Get list of timestamps and links from json file\n",
    "    data = get_timestamps_links_list(filename)\n",
    "    \n",
    "    # Create dataframe from the timestamp and link\n",
    "    json_df = pd.DataFrame(data,columns=['Date','Link'])\n",
    "    \n",
    "#     # Add code column\n",
    "#     json_df['code'] = code\n",
    "#     json_df['video_id'] = json_df['link'].apply(get_video_id)\n",
    "    return json_df"
   ]
  },
  {
   "cell_type": "code",
   "execution_count": 90,
   "id": "245ff39e",
   "metadata": {},
   "outputs": [
    {
     "name": "stdout",
     "output_type": "stream",
     "text": [
      "<class 'list'>\n",
      "JSON DATA LOADED AS LIST\n"
     ]
    }
   ],
   "source": [
    "exdf = make_json_df('Sec2Gr2_26301.json',26301)"
   ]
  },
  {
   "cell_type": "code",
   "execution_count": 91,
   "id": "e73f579b",
   "metadata": {},
   "outputs": [
    {
     "data": {
      "text/html": [
       "<div>\n",
       "<style scoped>\n",
       "    .dataframe tbody tr th:only-of-type {\n",
       "        vertical-align: middle;\n",
       "    }\n",
       "\n",
       "    .dataframe tbody tr th {\n",
       "        vertical-align: top;\n",
       "    }\n",
       "\n",
       "    .dataframe thead th {\n",
       "        text-align: right;\n",
       "    }\n",
       "</style>\n",
       "<table border=\"1\" class=\"dataframe\">\n",
       "  <thead>\n",
       "    <tr style=\"text-align: right;\">\n",
       "      <th></th>\n",
       "      <th>Date</th>\n",
       "      <th>Link</th>\n",
       "    </tr>\n",
       "  </thead>\n",
       "  <tbody>\n",
       "    <tr>\n",
       "      <th>0</th>\n",
       "      <td>2024-03-06 19:44:41</td>\n",
       "      <td>https://www.tiktokv.com/share/video/7315561816...</td>\n",
       "    </tr>\n",
       "    <tr>\n",
       "      <th>1</th>\n",
       "      <td>2024-03-06 18:00:25</td>\n",
       "      <td>https://www.tiktokv.com/share/video/7315561816...</td>\n",
       "    </tr>\n",
       "    <tr>\n",
       "      <th>2</th>\n",
       "      <td>2024-03-06 17:58:36</td>\n",
       "      <td>https://www.tiktokv.com/share/video/7315561816...</td>\n",
       "    </tr>\n",
       "    <tr>\n",
       "      <th>3</th>\n",
       "      <td>2024-03-06 17:56:52</td>\n",
       "      <td>https://www.tiktokv.com/share/video/7315561816...</td>\n",
       "    </tr>\n",
       "    <tr>\n",
       "      <th>4</th>\n",
       "      <td>2024-03-06 17:46:03</td>\n",
       "      <td>https://www.tiktokv.com/share/video/7315561816...</td>\n",
       "    </tr>\n",
       "    <tr>\n",
       "      <th>...</th>\n",
       "      <td>...</td>\n",
       "      <td>...</td>\n",
       "    </tr>\n",
       "    <tr>\n",
       "      <th>82366</th>\n",
       "      <td>2023-09-10 00:30:26</td>\n",
       "      <td>https://www.tiktokv.com/share/video/7276548738...</td>\n",
       "    </tr>\n",
       "    <tr>\n",
       "      <th>82367</th>\n",
       "      <td>2023-09-10 00:30:22</td>\n",
       "      <td>https://www.tiktokv.com/share/video/7276921937...</td>\n",
       "    </tr>\n",
       "    <tr>\n",
       "      <th>82368</th>\n",
       "      <td>2023-09-10 00:30:10</td>\n",
       "      <td>https://www.tiktokv.com/share/video/7276503910...</td>\n",
       "    </tr>\n",
       "    <tr>\n",
       "      <th>82369</th>\n",
       "      <td>2023-09-10 00:30:09</td>\n",
       "      <td>https://www.tiktokv.com/share/video/7276924782...</td>\n",
       "    </tr>\n",
       "    <tr>\n",
       "      <th>82370</th>\n",
       "      <td>2023-09-10 00:29:59</td>\n",
       "      <td>https://www.tiktokv.com/share/video/7276125599...</td>\n",
       "    </tr>\n",
       "  </tbody>\n",
       "</table>\n",
       "<p>82371 rows × 2 columns</p>\n",
       "</div>"
      ],
      "text/plain": [
       "                      Date                                               Link\n",
       "0      2024-03-06 19:44:41  https://www.tiktokv.com/share/video/7315561816...\n",
       "1      2024-03-06 18:00:25  https://www.tiktokv.com/share/video/7315561816...\n",
       "2      2024-03-06 17:58:36  https://www.tiktokv.com/share/video/7315561816...\n",
       "3      2024-03-06 17:56:52  https://www.tiktokv.com/share/video/7315561816...\n",
       "4      2024-03-06 17:46:03  https://www.tiktokv.com/share/video/7315561816...\n",
       "...                    ...                                                ...\n",
       "82366  2023-09-10 00:30:26  https://www.tiktokv.com/share/video/7276548738...\n",
       "82367  2023-09-10 00:30:22  https://www.tiktokv.com/share/video/7276921937...\n",
       "82368  2023-09-10 00:30:10  https://www.tiktokv.com/share/video/7276503910...\n",
       "82369  2023-09-10 00:30:09  https://www.tiktokv.com/share/video/7276924782...\n",
       "82370  2023-09-10 00:29:59  https://www.tiktokv.com/share/video/7276125599...\n",
       "\n",
       "[82371 rows x 2 columns]"
      ]
     },
     "execution_count": 91,
     "metadata": {},
     "output_type": "execute_result"
    }
   ],
   "source": [
    "exdf"
   ]
  },
  {
   "cell_type": "code",
   "execution_count": 92,
   "id": "bfb44015",
   "metadata": {},
   "outputs": [],
   "source": [
    "def convert2json(row):\n",
    "    result = {\"Date\":row[\"Date\"],\n",
    "              \"Link\":row[\"Link\"]}\n",
    "    return result"
   ]
  },
  {
   "cell_type": "code",
   "execution_count": 95,
   "id": "9f7c33a9",
   "metadata": {},
   "outputs": [
    {
     "data": {
      "text/html": [
       "<div>\n",
       "<style scoped>\n",
       "    .dataframe tbody tr th:only-of-type {\n",
       "        vertical-align: middle;\n",
       "    }\n",
       "\n",
       "    .dataframe tbody tr th {\n",
       "        vertical-align: top;\n",
       "    }\n",
       "\n",
       "    .dataframe thead th {\n",
       "        text-align: right;\n",
       "    }\n",
       "</style>\n",
       "<table border=\"1\" class=\"dataframe\">\n",
       "  <thead>\n",
       "    <tr style=\"text-align: right;\">\n",
       "      <th></th>\n",
       "      <th>Date</th>\n",
       "      <th>Link</th>\n",
       "      <th>dict</th>\n",
       "    </tr>\n",
       "  </thead>\n",
       "  <tbody>\n",
       "    <tr>\n",
       "      <th>0</th>\n",
       "      <td>2024-03-06 19:44:41</td>\n",
       "      <td>https://www.tiktokv.com/share/video/7315561816...</td>\n",
       "      <td>{'Date': '2024-03-06 19:44:41', 'Link': 'https...</td>\n",
       "    </tr>\n",
       "    <tr>\n",
       "      <th>1</th>\n",
       "      <td>2024-03-06 18:00:25</td>\n",
       "      <td>https://www.tiktokv.com/share/video/7315561816...</td>\n",
       "      <td>{'Date': '2024-03-06 18:00:25', 'Link': 'https...</td>\n",
       "    </tr>\n",
       "    <tr>\n",
       "      <th>2</th>\n",
       "      <td>2024-03-06 17:58:36</td>\n",
       "      <td>https://www.tiktokv.com/share/video/7315561816...</td>\n",
       "      <td>{'Date': '2024-03-06 17:58:36', 'Link': 'https...</td>\n",
       "    </tr>\n",
       "    <tr>\n",
       "      <th>3</th>\n",
       "      <td>2024-03-06 17:56:52</td>\n",
       "      <td>https://www.tiktokv.com/share/video/7315561816...</td>\n",
       "      <td>{'Date': '2024-03-06 17:56:52', 'Link': 'https...</td>\n",
       "    </tr>\n",
       "    <tr>\n",
       "      <th>4</th>\n",
       "      <td>2024-03-06 17:46:03</td>\n",
       "      <td>https://www.tiktokv.com/share/video/7315561816...</td>\n",
       "      <td>{'Date': '2024-03-06 17:46:03', 'Link': 'https...</td>\n",
       "    </tr>\n",
       "  </tbody>\n",
       "</table>\n",
       "</div>"
      ],
      "text/plain": [
       "                  Date                                               Link  \\\n",
       "0  2024-03-06 19:44:41  https://www.tiktokv.com/share/video/7315561816...   \n",
       "1  2024-03-06 18:00:25  https://www.tiktokv.com/share/video/7315561816...   \n",
       "2  2024-03-06 17:58:36  https://www.tiktokv.com/share/video/7315561816...   \n",
       "3  2024-03-06 17:56:52  https://www.tiktokv.com/share/video/7315561816...   \n",
       "4  2024-03-06 17:46:03  https://www.tiktokv.com/share/video/7315561816...   \n",
       "\n",
       "                                                dict  \n",
       "0  {'Date': '2024-03-06 19:44:41', 'Link': 'https...  \n",
       "1  {'Date': '2024-03-06 18:00:25', 'Link': 'https...  \n",
       "2  {'Date': '2024-03-06 17:58:36', 'Link': 'https...  \n",
       "3  {'Date': '2024-03-06 17:56:52', 'Link': 'https...  \n",
       "4  {'Date': '2024-03-06 17:46:03', 'Link': 'https...  "
      ]
     },
     "execution_count": 95,
     "metadata": {},
     "output_type": "execute_result"
    }
   ],
   "source": [
    "exdf[\"dict\"] = exdf.apply(convert2json, axis=1)\n",
    "exdf.head()"
   ]
  },
  {
   "cell_type": "code",
   "execution_count": 96,
   "id": "ec17cc29",
   "metadata": {},
   "outputs": [
    {
     "data": {
      "text/plain": [
       "[{'Date': '2024-03-06 19:44:41',\n",
       "  'Link': 'https://www.tiktokv.com/share/video/7315561816673750318/'},\n",
       " {'Date': '2024-03-06 18:00:25',\n",
       "  'Link': 'https://www.tiktokv.com/share/video/7315561816673750318/'},\n",
       " {'Date': '2024-03-06 17:58:36',\n",
       "  'Link': 'https://www.tiktokv.com/share/video/7315561816673750318/'},\n",
       " {'Date': '2024-03-06 17:56:52',\n",
       "  'Link': 'https://www.tiktokv.com/share/video/7315561816673750318/'},\n",
       " {'Date': '2024-03-06 17:46:03',\n",
       "  'Link': 'https://www.tiktokv.com/share/video/7315561816673750318/'}]"
      ]
     },
     "execution_count": 96,
     "metadata": {},
     "output_type": "execute_result"
    }
   ],
   "source": [
    "exdf = exdf['dict'].tolist()\n",
    "exdf[:5]"
   ]
  },
  {
   "cell_type": "code",
   "execution_count": 97,
   "id": "25bef066",
   "metadata": {},
   "outputs": [],
   "source": [
    "# Writing to sample.json\n",
    "with open(\"edith_test.json\", \"w\") as outfile:\n",
    "    json_object = json.dumps(exdf, indent=4)\n",
    "    outfile.write(json_object)"
   ]
  },
  {
   "cell_type": "markdown",
   "id": "b71e4d96",
   "metadata": {},
   "source": [
    "# Reformat JSON Files for Data Collection - USER 26301"
   ]
  },
  {
   "cell_type": "code",
   "execution_count": 68,
   "id": "d5cf0a8c",
   "metadata": {},
   "outputs": [
    {
     "data": {
      "text/plain": [
       "'/Users/edithpo/Documents/CS315/CS315_FinalProject'"
      ]
     },
     "execution_count": 68,
     "metadata": {},
     "output_type": "execute_result"
    }
   ],
   "source": [
    "pwd"
   ]
  },
  {
   "cell_type": "code",
   "execution_count": 69,
   "id": "8be1c8b0",
   "metadata": {},
   "outputs": [
    {
     "name": "stdout",
     "output_type": "stream",
     "text": [
      "CompleteDateTime.ipynb      \u001b[34mpyktok_data\u001b[m\u001b[m/\r\n",
      "README.md                   topic_modeling.ipynb\r\n",
      "exploratory_analysis.ipynb  \u001b[34muser_jsons\u001b[m\u001b[m/\r\n",
      "looking_at_jsons.ipynb      \u001b[34muser_jsons_tosplit\u001b[m\u001b[m/\r\n",
      "\u001b[34mpyktok\u001b[m\u001b[m/\r\n"
     ]
    }
   ],
   "source": [
    "ls"
   ]
  },
  {
   "cell_type": "code",
   "execution_count": 70,
   "id": "c68f5a98",
   "metadata": {},
   "outputs": [
    {
     "data": {
      "text/plain": [
       "['Sec1Gr1_12345_1.json',\n",
       " 'xab.json',\n",
       " 'xac.json',\n",
       " 'xad.json',\n",
       " 'xae.json',\n",
       " 'xaf.json',\n",
       " 'xag.json',\n",
       " 'Sec1Gr1_12345.json',\n",
       " 'Sec2Gr2_26301.json',\n",
       " 'xaa.json',\n",
       " 'Sec1Gr1_12345_2.json']"
      ]
     },
     "execution_count": 70,
     "metadata": {},
     "output_type": "execute_result"
    }
   ],
   "source": [
    "os.listdir('user_jsons_tosplit')"
   ]
  },
  {
   "cell_type": "code",
   "execution_count": null,
   "id": "bce460b6",
   "metadata": {},
   "outputs": [],
   "source": [
    "def convert2json(row):\n",
    "    result = {\"Date\":row[\"Date\"],\n",
    "              \"Link\":row[\"Link\"]}\n",
    "    return result"
   ]
  },
  {
   "cell_type": "code",
   "execution_count": 100,
   "id": "56ba344c",
   "metadata": {},
   "outputs": [
    {
     "name": "stdout",
     "output_type": "stream",
     "text": [
      "<class 'list'>\n",
      "JSON DATA LOADED AS LIST\n",
      "(82371, 3)\n"
     ]
    },
    {
     "data": {
      "text/html": [
       "<div>\n",
       "<style scoped>\n",
       "    .dataframe tbody tr th:only-of-type {\n",
       "        vertical-align: middle;\n",
       "    }\n",
       "\n",
       "    .dataframe tbody tr th {\n",
       "        vertical-align: top;\n",
       "    }\n",
       "\n",
       "    .dataframe thead th {\n",
       "        text-align: right;\n",
       "    }\n",
       "</style>\n",
       "<table border=\"1\" class=\"dataframe\">\n",
       "  <thead>\n",
       "    <tr style=\"text-align: right;\">\n",
       "      <th></th>\n",
       "      <th>Date</th>\n",
       "      <th>Link</th>\n",
       "      <th>dict</th>\n",
       "    </tr>\n",
       "  </thead>\n",
       "  <tbody>\n",
       "    <tr>\n",
       "      <th>0</th>\n",
       "      <td>2024-03-06 19:44:41</td>\n",
       "      <td>https://www.tiktokv.com/share/video/7315561816...</td>\n",
       "      <td>{'Date': '2024-03-06 19:44:41', 'Link': 'https...</td>\n",
       "    </tr>\n",
       "    <tr>\n",
       "      <th>1</th>\n",
       "      <td>2024-03-06 18:00:25</td>\n",
       "      <td>https://www.tiktokv.com/share/video/7315561816...</td>\n",
       "      <td>{'Date': '2024-03-06 18:00:25', 'Link': 'https...</td>\n",
       "    </tr>\n",
       "    <tr>\n",
       "      <th>2</th>\n",
       "      <td>2024-03-06 17:58:36</td>\n",
       "      <td>https://www.tiktokv.com/share/video/7315561816...</td>\n",
       "      <td>{'Date': '2024-03-06 17:58:36', 'Link': 'https...</td>\n",
       "    </tr>\n",
       "    <tr>\n",
       "      <th>3</th>\n",
       "      <td>2024-03-06 17:56:52</td>\n",
       "      <td>https://www.tiktokv.com/share/video/7315561816...</td>\n",
       "      <td>{'Date': '2024-03-06 17:56:52', 'Link': 'https...</td>\n",
       "    </tr>\n",
       "    <tr>\n",
       "      <th>4</th>\n",
       "      <td>2024-03-06 17:46:03</td>\n",
       "      <td>https://www.tiktokv.com/share/video/7315561816...</td>\n",
       "      <td>{'Date': '2024-03-06 17:46:03', 'Link': 'https...</td>\n",
       "    </tr>\n",
       "  </tbody>\n",
       "</table>\n",
       "</div>"
      ],
      "text/plain": [
       "                  Date                                               Link  \\\n",
       "0  2024-03-06 19:44:41  https://www.tiktokv.com/share/video/7315561816...   \n",
       "1  2024-03-06 18:00:25  https://www.tiktokv.com/share/video/7315561816...   \n",
       "2  2024-03-06 17:58:36  https://www.tiktokv.com/share/video/7315561816...   \n",
       "3  2024-03-06 17:56:52  https://www.tiktokv.com/share/video/7315561816...   \n",
       "4  2024-03-06 17:46:03  https://www.tiktokv.com/share/video/7315561816...   \n",
       "\n",
       "                                                dict  \n",
       "0  {'Date': '2024-03-06 19:44:41', 'Link': 'https...  \n",
       "1  {'Date': '2024-03-06 18:00:25', 'Link': 'https...  \n",
       "2  {'Date': '2024-03-06 17:58:36', 'Link': 'https...  \n",
       "3  {'Date': '2024-03-06 17:56:52', 'Link': 'https...  \n",
       "4  {'Date': '2024-03-06 17:46:03', 'Link': 'https...  "
      ]
     },
     "execution_count": 100,
     "metadata": {},
     "output_type": "execute_result"
    }
   ],
   "source": [
    "user26301 = make_json_df('Sec2Gr2_26301.json',26301)\n",
    "user26301[\"dict\"] = user26301.apply(convert2json, axis=1)\n",
    "print(user26301.shape)\n",
    "user26301.head()"
   ]
  },
  {
   "cell_type": "code",
   "execution_count": 104,
   "id": "b03cd292",
   "metadata": {},
   "outputs": [
    {
     "data": {
      "text/plain": [
       "11767.285714285714"
      ]
     },
     "execution_count": 104,
     "metadata": {},
     "output_type": "execute_result"
    }
   ],
   "source": [
    "# Turn into list\n",
    "user26301 = user26301['dict'].tolist()"
   ]
  },
  {
   "cell_type": "code",
   "execution_count": 106,
   "id": "1094d38d",
   "metadata": {},
   "outputs": [
    {
     "data": {
      "text/plain": [
       "82371"
      ]
     },
     "execution_count": 106,
     "metadata": {},
     "output_type": "execute_result"
    }
   ],
   "source": [
    "len(user26301)"
   ]
  },
  {
   "cell_type": "code",
   "execution_count": 108,
   "id": "b1697885",
   "metadata": {},
   "outputs": [],
   "source": [
    "# Split the df into parts\n",
    "part1 = user26301[:12000]\n",
    "part2 = user26301[12000:24000]\n",
    "part3 = user26301[24000:36000]\n",
    "part4 = user26301[36000:48000]\n",
    "part5 = user26301[48000:60000]\n",
    "part6 = user26301[72000:82371]"
   ]
  },
  {
   "cell_type": "code",
   "execution_count": 110,
   "id": "e2fc66a3",
   "metadata": {},
   "outputs": [],
   "source": [
    "parts = [part1, part2, part3, part4, part5, part6]\n",
    "fnames = ['Sec2Gr2_26301_1.json','Sec2Gr2_26301_2.json',\n",
    "          'Sec2Gr2_26301_3.json','Sec2Gr2_26301_4.json',\n",
    "          'Sec2Gr2_26301_5.json','Sec2Gr2_26301_6.json']"
   ]
  },
  {
   "cell_type": "code",
   "execution_count": null,
   "id": "deb78548",
   "metadata": {},
   "outputs": [],
   "source": [
    "# Writing to sample.json\n",
    "with open(\"edith_test.json\", \"w\") as outfile:\n",
    "    json_object = json.dumps(exdf, indent=4)\n",
    "    outfile.write(json_object)\n",
    "    \n",
    "    \n",
    "for part, fn in zip(parts, fnames):\n",
    "    with open(f\"user_jsons_tosplit/{fn}\",\"w\") as outfile:\n",
    "        json_object = json.dumps(part) \n",
    "    "
   ]
  }
 ],
 "metadata": {
  "kernelspec": {
   "display_name": "Python 3 (ipykernel)",
   "language": "python",
   "name": "python3"
  },
  "language_info": {
   "codemirror_mode": {
    "name": "ipython",
    "version": 3
   },
   "file_extension": ".py",
   "mimetype": "text/x-python",
   "name": "python",
   "nbconvert_exporter": "python",
   "pygments_lexer": "ipython3",
   "version": "3.10.8"
  }
 },
 "nbformat": 4,
 "nbformat_minor": 5
}

{
 "cells": [
  {
   "cell_type": "code",
   "execution_count": 4,
   "id": "78a609ab",
   "metadata": {},
   "outputs": [],
   "source": [
    "import json\n",
    "import pandas as pd\n",
    "from urllib.parse import urlparse\n",
    "import matplotlib.pyplot as plt"
   ]
  },
  {
   "cell_type": "code",
   "execution_count": 5,
   "id": "182803df",
   "metadata": {},
   "outputs": [],
   "source": [
    "def getID(url):\n",
    "    parsed_url = urlparse(url)\n",
    "    path_segments = parsed_url.path.split('/')\n",
    "    return int(path_segments[3])\n",
    "\n",
    "def processJson(jsond): #for Sec2Gr2 files\n",
    "    jsondf = jsond\n",
    "    jsondf['video_id'] = jsondf['Link'].apply(getID)\n",
    "    return jsondf\n",
    "\n",
    "def processJson2(jsonfilename): #for Sec1Gr1 files\n",
    "    filename = f'{jsonfilename}'\n",
    "    with open(filename, 'r') as file:\n",
    "        jsondata = json.load(file)\n",
    "\n",
    "    jsondict = {'Date':[],'Link':[],'video_id':[]}\n",
    "    for video in jsondata['data']:\n",
    "        jsondict['Link'].append(video[1])\n",
    "        jsondict['video_id'].append(getID(video[1])) \n",
    "        jsondict['Date'].append(video[0])\n",
    "\n",
    "    jsondf = pd.DataFrame(jsondict)\n",
    "    return jsondf\n",
    "    "
   ]
  },
  {
   "cell_type": "markdown",
   "id": "b9c4f7bf",
   "metadata": {},
   "source": [
    "### Check which json files contain relevant months"
   ]
  },
  {
   "cell_type": "code",
   "execution_count": null,
   "id": "29e45266",
   "metadata": {},
   "outputs": [],
   "source": [
    "files = [\"Sec1Gr1_10824.csv\",\n",
    "         \"Sec1Gr1_12345.csv\",\n",
    "         \"Sec1Gr1_50405.csv\",\n",
    "         \"Sec1Gr2_26301.csv\",\n",
    "         \"Sec1Gr2_33534.csv\",\n",
    "         \n",
    "        ]"
   ]
  },
  {
   "cell_type": "code",
   "execution_count": 12,
   "id": "9a7309fb",
   "metadata": {},
   "outputs": [],
   "source": [
    "json10824 = processJson2(\"Sec1Gr1_10824.json\")\n",
    "json10824['Date'] = pd.to_datetime(json10824['Date'])\n",
    "monthlycounts = json10824.groupby(json10824['Date'].dt.to_period('M')).size()\n",
    "monthlycounts"
   ]
  },
  {
   "cell_type": "code",
   "execution_count": null,
   "id": "317977e5",
   "metadata": {},
   "outputs": [],
   "source": []
  }
 ],
 "metadata": {
  "kernelspec": {
   "display_name": "Python 3 (ipykernel)",
   "language": "python",
   "name": "python3"
  },
  "language_info": {
   "codemirror_mode": {
    "name": "ipython",
    "version": 3
   },
   "file_extension": ".py",
   "mimetype": "text/x-python",
   "name": "python",
   "nbconvert_exporter": "python",
   "pygments_lexer": "ipython3",
   "version": "3.11.5"
  }
 },
 "nbformat": 4,
 "nbformat_minor": 5
}

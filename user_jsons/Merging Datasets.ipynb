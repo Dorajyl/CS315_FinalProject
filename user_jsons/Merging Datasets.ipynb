{
 "cells": [
  {
   "cell_type": "code",
   "execution_count": 1,
   "id": "78a609ab",
   "metadata": {},
   "outputs": [],
   "source": [
    "import json\n",
    "import pandas as pd\n",
    "from urllib.parse import urlparse\n",
    "import matplotlib.pyplot as plt"
   ]
  },
  {
   "cell_type": "code",
   "execution_count": 2,
   "id": "182803df",
   "metadata": {},
   "outputs": [],
   "source": [
    "def getID(url):\n",
    "    \"\"\"\n",
    "    Helper Function: Given an url string, returns the video id embedded in the url\n",
    "    \"\"\"\n",
    "    parsed_url = urlparse(url)\n",
    "    path_segments = parsed_url.path.split('/')\n",
    "    return int(path_segments[3])\n",
    "\n",
    "def processJson(filename): #for Sec2Gr2 files\n",
    "    \"\"\"\n",
    "    Helper Function: Given a json datafile name, return the file in dataframe format \n",
    "    \"\"\"\n",
    "    jsondf = jsond\n",
    "    jsondf['video_id'] = jsondf['Link'].apply(getID)\n",
    "    return jsondf\n",
    "\n",
    "def processJson2(filename): #for Sec1Gr1 files\n",
    "    with open(filename, 'r') as file:\n",
    "        jsondata = json.load(file)\n",
    "\n",
    "    jsondict = {'Date':[],'Link':[],'video_id':[]}\n",
    "    for video in jsondata['data']:\n",
    "        jsondict['Link'].append(video[1])\n",
    "        jsondict['video_id'].append(getID(video[1])) \n",
    "        jsondict['Date'].append(video[0])\n",
    "\n",
    "    jsondf = pd.DataFrame(jsondict)\n",
    "    return jsondf\n",
    "    \n",
    "    \n",
    "    "
   ]
  },
  {
   "cell_type": "markdown",
   "id": "b9c4f7bf",
   "metadata": {},
   "source": [
    "### Check which json files contain relevant months"
   ]
  },
  {
   "cell_type": "code",
   "execution_count": 3,
   "id": "29e45266",
   "metadata": {},
   "outputs": [],
   "source": [
    "sec1files = [\"Sec1Gr1_10824.json\",\"Sec1Gr1_12345.json\",\"Sec1Gr1_50405.json\"]\n",
    "sec1grp3file = \"Sec1Gr3_11111.json\"\n",
    "sec2files = [\"Sec2Gr2_26301.json\",\"Sec2Gr2_33534.json\",\"Sec2Gr2_38129.json\",\"Sec2Gr2_69117.json\"]"
   ]
  },
  {
   "cell_type": "code",
   "execution_count": 4,
   "id": "0fc109b6",
   "metadata": {},
   "outputs": [
    {
     "name": "stdout",
     "output_type": "stream",
     "text": [
      "Sec1Gr1_10824.json\n",
      "Date\n",
      "2023-11    14114\n",
      "2023-12     2940\n",
      "2024-02     9213\n",
      "Freq: M, dtype: int64\n",
      "\n",
      "Sec1Gr1_12345.json\n",
      "Date\n",
      "2023-09    2985\n",
      "2023-11    1964\n",
      "2023-12    5558\n",
      "2024-01    5299\n",
      "2024-02    4038\n",
      "2024-03     777\n",
      "Freq: M, dtype: int64\n",
      "\n",
      "Sec1Gr1_50405.json\n",
      "Date\n",
      "2023-08    10053\n",
      "2023-09     1044\n",
      "2023-10     1540\n",
      "2023-11     1003\n",
      "2023-12     6047\n",
      "2024-01     6295\n",
      "2024-02      135\n",
      "Freq: M, dtype: int64\n",
      "\n"
     ]
    }
   ],
   "source": [
    "for file in sec1files:\n",
    "    print(file)\n",
    "    jsonfile = processJson2(file)\n",
    "    jsonfile['Date'] = pd.to_datetime(jsonfile['Date'])\n",
    "    monthlycounts = jsonfile.groupby(jsonfile['Date'].dt.to_period('M')).size()\n",
    "    print(monthlycounts)\n",
    "    print()"
   ]
  },
  {
   "cell_type": "markdown",
   "id": "a87f5119",
   "metadata": {},
   "source": [
    "### Merge original json and csv files' dataframes"
   ]
  },
  {
   "cell_type": "markdown",
   "id": "1cafcb94",
   "metadata": {},
   "source": [
    "sample"
   ]
  },
  {
   "cell_type": "code",
   "execution_count": 5,
   "id": "5caf5f7b",
   "metadata": {},
   "outputs": [
    {
     "data": {
      "text/html": [
       "<div>\n",
       "<style scoped>\n",
       "    .dataframe tbody tr th:only-of-type {\n",
       "        vertical-align: middle;\n",
       "    }\n",
       "\n",
       "    .dataframe tbody tr th {\n",
       "        vertical-align: top;\n",
       "    }\n",
       "\n",
       "    .dataframe thead th {\n",
       "        text-align: right;\n",
       "    }\n",
       "</style>\n",
       "<table border=\"1\" class=\"dataframe\">\n",
       "  <thead>\n",
       "    <tr style=\"text-align: right;\">\n",
       "      <th></th>\n",
       "      <th>Date</th>\n",
       "      <th>Link</th>\n",
       "      <th>video_id</th>\n",
       "    </tr>\n",
       "  </thead>\n",
       "  <tbody>\n",
       "    <tr>\n",
       "      <th>0</th>\n",
       "      <td>2024-02-09 23:35:22</td>\n",
       "      <td>https://www.tiktokv.com/share/video/7328672125...</td>\n",
       "      <td>7328672125441658117</td>\n",
       "    </tr>\n",
       "    <tr>\n",
       "      <th>1</th>\n",
       "      <td>2024-02-26 23:29:56</td>\n",
       "      <td>https://www.tiktokv.com/share/video/7326611895...</td>\n",
       "      <td>7326611895509585185</td>\n",
       "    </tr>\n",
       "    <tr>\n",
       "      <th>2</th>\n",
       "      <td>2024-02-26 23:28:15</td>\n",
       "      <td>https://www.tiktokv.com/share/video/7324765984...</td>\n",
       "      <td>7324765984139644192</td>\n",
       "    </tr>\n",
       "    <tr>\n",
       "      <th>3</th>\n",
       "      <td>2024-02-26 23:27:53</td>\n",
       "      <td>https://www.tiktokv.com/share/video/7329768535...</td>\n",
       "      <td>7329768535524429102</td>\n",
       "    </tr>\n",
       "    <tr>\n",
       "      <th>4</th>\n",
       "      <td>2024-02-26 23:27:42</td>\n",
       "      <td>https://www.tiktokv.com/share/video/7338541911...</td>\n",
       "      <td>7338541911629745414</td>\n",
       "    </tr>\n",
       "  </tbody>\n",
       "</table>\n",
       "</div>"
      ],
      "text/plain": [
       "                  Date                                               Link  \\\n",
       "0  2024-02-09 23:35:22  https://www.tiktokv.com/share/video/7328672125...   \n",
       "1  2024-02-26 23:29:56  https://www.tiktokv.com/share/video/7326611895...   \n",
       "2  2024-02-26 23:28:15  https://www.tiktokv.com/share/video/7324765984...   \n",
       "3  2024-02-26 23:27:53  https://www.tiktokv.com/share/video/7329768535...   \n",
       "4  2024-02-26 23:27:42  https://www.tiktokv.com/share/video/7338541911...   \n",
       "\n",
       "              video_id  \n",
       "0  7328672125441658117  \n",
       "1  7326611895509585185  \n",
       "2  7324765984139644192  \n",
       "3  7329768535524429102  \n",
       "4  7338541911629745414  "
      ]
     },
     "execution_count": 5,
     "metadata": {},
     "output_type": "execute_result"
    }
   ],
   "source": [
    "jsondf = processJson2(\"Sec1Gr1_10824.json\")\n",
    "jsondf.head()"
   ]
  },
  {
   "cell_type": "code",
   "execution_count": null,
   "id": "6bcce6bd",
   "metadata": {},
   "outputs": [],
   "source": [
    "csvdf = df.read_csv(\"Sec1Gr1_10824.csv\")\n",
    "csvdf.head()"
   ]
  },
  {
   "cell_type": "code",
   "execution_count": null,
   "id": "317977e5",
   "metadata": {},
   "outputs": [],
   "source": [
    "df1.merge(df2, on=['col1', 'col2'])"
   ]
  }
 ],
 "metadata": {
  "kernelspec": {
   "display_name": "Python 3 (ipykernel)",
   "language": "python",
   "name": "python3"
  },
  "language_info": {
   "codemirror_mode": {
    "name": "ipython",
    "version": 3
   },
   "file_extension": ".py",
   "mimetype": "text/x-python",
   "name": "python",
   "nbconvert_exporter": "python",
   "pygments_lexer": "ipython3",
   "version": "3.10.8"
  }
 },
 "nbformat": 4,
 "nbformat_minor": 5
}
